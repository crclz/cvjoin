{
 "cells": [
  {
   "cell_type": "markdown",
   "id": "1b8b3da4",
   "metadata": {},
   "source": [
    "第一种方法是结构化的方法。首先思考结构化的方法。如果信息整理难度过大就走统计学的路。\n",
    "\n",
    "第二种方法是统计学的方法。\n",
    "\n",
    "第三种方法是手动导入。至少对于我个人看过的番剧来说，手动导入是可以实现的。另外，如果有社区的话，实现起来也非常容易。但是，这就不能体现技术上的geek感。\n",
    "\n",
    "\n"
   ]
  },
  {
   "cell_type": "markdown",
   "id": "994627c0",
   "metadata": {},
   "source": [
    "注：如果采用selenium之类的，可以使用这个\n",
    "\n",
    "```js\n",
    "$('.mic-evaluate')[0].querySelector('span').innerText\n",
    "\n",
    "// or \n",
    "document.querySelector('.mic-evaluate').querySelector('span').innerText\n",
    "\n",
    "\n",
    "`御坂美琴：佐藤利奈\n",
    "佐天泪子：伊藤加奈惠\n",
    "初春饰利：丰崎爱生\n",
    "白井黑子：新井里美\n",
    "麦野沈利：小清水亚美\n",
    "绢旗最爱：赤﨑千夏\n",
    "一方通行：岡本信彦\n",
    "芙兰达·赛维伦：内田真礼\n",
    "布束砥信：葉山いくみ\n",
    "`\n",
    "```"
   ]
  },
  {
   "cell_type": "markdown",
   "id": "5d982d8e",
   "metadata": {},
   "source": [
    "网址的问题\n",
    "\n",
    "https://www.bilibili.com/bangumi/media/md427\n",
    "\n",
    "关键是找到md后面的数字的列表，之后就好办了。\n",
    "\n",
    "不管怎样，先验证爬虫吧。"
   ]
  },
  {
   "cell_type": "code",
   "execution_count": 50,
   "id": "3e0005da",
   "metadata": {},
   "outputs": [],
   "source": [
    "import requests\n",
    "from bs4 import BeautifulSoup\n",
    "import re"
   ]
  },
  {
   "cell_type": "code",
   "execution_count": 51,
   "id": "77fc8495",
   "metadata": {},
   "outputs": [],
   "source": [
    "H = {\"User-Agent\":\"Mozilla/5.0 (Windows NT 10.0; Win64; x64; rv:89.0) Gecko/20100101 Firefox/89.0\"}\n",
    "\n",
    "res = requests.get('https://www.bilibili.com/bangumi/media/md427', headers=H)"
   ]
  },
  {
   "cell_type": "code",
   "execution_count": 13,
   "id": "dc7aa8ff",
   "metadata": {},
   "outputs": [],
   "source": [
    "with open(\"a.html\", 'w', encoding='utf8') as f:\n",
    "    f.write(res.text)"
   ]
  },
  {
   "cell_type": "code",
   "execution_count": 27,
   "id": "1d560b55",
   "metadata": {},
   "outputs": [
    {
     "data": {
      "text/plain": [
       "'御坂美琴：佐藤利奈\\\\n佐天泪子：伊藤加奈惠\\\\n初春饰利：丰崎爱生\\\\n白井黑子：新井里美\\\\n麦野沈利：小清水亚美\\\\n绢旗最爱：赤﨑千夏\\\\n一方通行：岡本信彦\\\\n芙兰达·赛维伦：内田真礼\\\\n布束砥信：葉山いくみ\\\\n'"
      ]
     },
     "execution_count": 27,
     "metadata": {},
     "output_type": "execute_result"
    }
   ],
   "source": [
    "# 方法1 \"actors\": \"...\"\n",
    "\n",
    "pattern = r'\"actors\"[^\"]*\"(.+?)\"'\n",
    "re.findall(pattern, res.text)[0]"
   ]
  },
  {
   "cell_type": "markdown",
   "id": "1066ba50",
   "metadata": {},
   "source": [
    "接下来就是找url的环节。\n",
    "\n"
   ]
  },
  {
   "cell_type": "code",
   "execution_count": 28,
   "id": "330a08ba",
   "metadata": {},
   "outputs": [],
   "source": [
    "res = requests.get('https://www.bilibili.com/bangumi/play/ss3398', headers=H)"
   ]
  },
  {
   "cell_type": "code",
   "execution_count": 30,
   "id": "8ae78b19",
   "metadata": {},
   "outputs": [],
   "source": [
    "with open('b.html','w',encoding='utf8') as f:\n",
    "    f.write(res.text)"
   ]
  },
  {
   "cell_type": "code",
   "execution_count": 32,
   "id": "be2986f9",
   "metadata": {},
   "outputs": [],
   "source": [
    "s = BeautifulSoup(res.text)"
   ]
  },
  {
   "cell_type": "code",
   "execution_count": 47,
   "id": "59e6c3b5",
   "metadata": {},
   "outputs": [
    {
     "name": "stdout",
     "output_type": "stream",
     "text": [
      "https://www.bilibili.com/bangumi/media/md3398/\n",
      "冰菓\n"
     ]
    }
   ],
   "source": [
    "atag = s.select_one(\".media-title\")\n",
    "\n",
    "print(\"https:\"+atag.attrs['href'])\n",
    "print(atag.text)"
   ]
  },
  {
   "cell_type": "markdown",
   "id": "bd48220f",
   "metadata": {},
   "source": [
    "# 正片开始"
   ]
  },
  {
   "cell_type": "code",
   "execution_count": 52,
   "id": "baa37c45",
   "metadata": {},
   "outputs": [],
   "source": [
    "# 获取全部番剧列表，按照排行榜排序\n",
    "\n"
   ]
  },
  {
   "cell_type": "code",
   "execution_count": null,
   "id": "c0a8bf84",
   "metadata": {},
   "outputs": [],
   "source": []
  }
 ],
 "metadata": {
  "kernelspec": {
   "display_name": "Python 3",
   "language": "python",
   "name": "python3"
  },
  "language_info": {
   "codemirror_mode": {
    "name": "ipython",
    "version": 3
   },
   "file_extension": ".py",
   "mimetype": "text/x-python",
   "name": "python",
   "nbconvert_exporter": "python",
   "pygments_lexer": "ipython3",
   "version": "3.8.3"
  }
 },
 "nbformat": 4,
 "nbformat_minor": 5
}
