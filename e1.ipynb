{
 "cells": [
  {
   "cell_type": "markdown",
   "id": "f25d86e1",
   "metadata": {},
   "source": [
    "第一种方法是结构化的方法。首先思考结构化的方法。如果信息整理难度过大就走统计学的路。\n",
    "\n",
    "第二种方法是统计学的方法。\n",
    "\n",
    "第三种方法是手动导入。至少对于我个人看过的番剧来说，手动导入是可以实现的。另外，如果有社区的话，实现起来也非常容易。但是，这就不能体现技术上的geek感。\n",
    "\n",
    "\n"
   ]
  },
  {
   "cell_type": "markdown",
   "id": "87f40948",
   "metadata": {},
   "source": [
    "注：如果采用selenium之类的，可以使用这个\n",
    "\n",
    "```js\n",
    "$('.mic-evaluate')[0].querySelector('span').innerText\n",
    "\n",
    "// or \n",
    "document.querySelector('.mic-evaluate').querySelector('span').innerText\n",
    "\n",
    "\n",
    "`御坂美琴：佐藤利奈\n",
    "佐天泪子：伊藤加奈惠\n",
    "初春饰利：丰崎爱生\n",
    "白井黑子：新井里美\n",
    "麦野沈利：小清水亚美\n",
    "绢旗最爱：赤﨑千夏\n",
    "一方通行：岡本信彦\n",
    "芙兰达·赛维伦：内田真礼\n",
    "布束砥信：葉山いくみ\n",
    "`\n",
    "```"
   ]
  },
  {
   "cell_type": "markdown",
   "id": "9cc5582a",
   "metadata": {},
   "source": [
    "网址的问题\n",
    "\n",
    "https://www.bilibili.com/bangumi/media/md427\n",
    "\n",
    "关键是找到md后面的数字的列表，之后就好办了。\n",
    "\n",
    "不管怎样，先验证爬虫吧。"
   ]
  },
  {
   "cell_type": "code",
   "execution_count": 11,
   "id": "89504944",
   "metadata": {},
   "outputs": [],
   "source": [
    "import requests\n",
    "from bs4 import BeautifulSoup\n",
    "import re\n",
    "import json\n",
    "H = {\"User-Agent\":\"Mozilla/5.0 (Windows NT 10.0; Win64; x64; rv:89.0) Gecko/20100101 Firefox/89.0\"}"
   ]
  },
  {
   "cell_type": "code",
   "execution_count": 51,
   "id": "139d5c8f",
   "metadata": {},
   "outputs": [],
   "source": [
    "\n",
    "\n",
    "res = requests.get('https://www.bilibili.com/bangumi/media/md427', headers=H)"
   ]
  },
  {
   "cell_type": "code",
   "execution_count": 13,
   "id": "19ddad6a",
   "metadata": {},
   "outputs": [],
   "source": [
    "with open(\"a.html\", 'w', encoding='utf8') as f:\n",
    "    f.write(res.text)"
   ]
  },
  {
   "cell_type": "code",
   "execution_count": 27,
   "id": "c9894097",
   "metadata": {},
   "outputs": [
    {
     "data": {
      "text/plain": [
       "'御坂美琴：佐藤利奈\\\\n佐天泪子：伊藤加奈惠\\\\n初春饰利：丰崎爱生\\\\n白井黑子：新井里美\\\\n麦野沈利：小清水亚美\\\\n绢旗最爱：赤﨑千夏\\\\n一方通行：岡本信彦\\\\n芙兰达·赛维伦：内田真礼\\\\n布束砥信：葉山いくみ\\\\n'"
      ]
     },
     "execution_count": 27,
     "metadata": {},
     "output_type": "execute_result"
    }
   ],
   "source": [
    "# 方法1 \"actors\": \"...\"\n",
    "\n",
    "pattern = r'\"actors\"[^\"]*\"(.+?)\"'\n",
    "re.findall(pattern, res.text)[0]"
   ]
  },
  {
   "cell_type": "markdown",
   "id": "be051c4b",
   "metadata": {},
   "source": [
    "接下来就是找url的环节。\n",
    "\n"
   ]
  },
  {
   "cell_type": "code",
   "execution_count": 28,
   "id": "dba06b9d",
   "metadata": {},
   "outputs": [],
   "source": [
    "res = requests.get('https://www.bilibili.com/bangumi/play/ss3398', headers=H)"
   ]
  },
  {
   "cell_type": "code",
   "execution_count": 30,
   "id": "b05b1391",
   "metadata": {},
   "outputs": [],
   "source": [
    "with open('b.html','w',encoding='utf8') as f:\n",
    "    f.write(res.text)"
   ]
  },
  {
   "cell_type": "code",
   "execution_count": 32,
   "id": "6e2809e5",
   "metadata": {},
   "outputs": [],
   "source": [
    "s = BeautifulSoup(res.text)"
   ]
  },
  {
   "cell_type": "code",
   "execution_count": 47,
   "id": "5400ef17",
   "metadata": {},
   "outputs": [
    {
     "name": "stdout",
     "output_type": "stream",
     "text": [
      "https://www.bilibili.com/bangumi/media/md3398/\n",
      "冰菓\n"
     ]
    }
   ],
   "source": [
    "atag = s.select_one(\".media-title\")\n",
    "\n",
    "print(\"https:\"+atag.attrs['href'])\n",
    "print(atag.text)"
   ]
  },
  {
   "cell_type": "markdown",
   "id": "13ac0489",
   "metadata": {},
   "source": [
    "# 正片开始"
   ]
  },
  {
   "cell_type": "code",
   "execution_count": 58,
   "id": "74fc94e3",
   "metadata": {},
   "outputs": [
    {
     "data": {
      "text/plain": [
       "'https://api.bilibili.com/pgc/season/index/result?season_version=-1&area=-1&is_finish=-1&copyright=-1&season_status=-1&season_month=-1&year=-1&style_id=-1&order=3&st=1&sort=0&page=10&season_type=1&pagesize=100&type=1'"
      ]
     },
     "execution_count": 58,
     "metadata": {},
     "output_type": "execute_result"
    }
   ],
   "source": [
    "# 获取全部番剧列表，按照排行榜排序\n",
    "\n",
    "def compose_url(page, page_size):\n",
    "    tmpl = \"https://api.bilibili.com/pgc/season/index/result?season_version=-1&area=-1&is_finish=-1&copyright=-1&season_status=-1&season_month=-1&year=-1&style_id=-1&order=3&st=1&sort=0&page={0}&season_type=1&pagesize={1}&type=1\"\n",
    "    return tmpl.format(page, page_size)\n",
    "\n",
    "compose_url(10,100)"
   ]
  },
  {
   "cell_type": "code",
   "execution_count": 59,
   "id": "b2a4049c",
   "metadata": {},
   "outputs": [],
   "source": [
    "huge_url = compose_url(1, 10000)"
   ]
  },
  {
   "cell_type": "code",
   "execution_count": 60,
   "id": "d2d2c2fc",
   "metadata": {},
   "outputs": [],
   "source": [
    "res = requests.get(huge_url, headers=H)"
   ]
  },
  {
   "cell_type": "code",
   "execution_count": 4,
   "id": "7d6606a9",
   "metadata": {},
   "outputs": [
    {
     "ename": "NameError",
     "evalue": "name 'res' is not defined",
     "output_type": "error",
     "traceback": [
      "\u001b[1;31m---------------------------------------------------------------------------\u001b[0m",
      "\u001b[1;31mNameError\u001b[0m                                 Traceback (most recent call last)",
      "\u001b[1;32m<ipython-input-4-acb48f565207>\u001b[0m in \u001b[0;36m<module>\u001b[1;34m\u001b[0m\n\u001b[0;32m      1\u001b[0m \u001b[1;32mwith\u001b[0m \u001b[0mopen\u001b[0m\u001b[1;33m(\u001b[0m\u001b[1;34m'data/1-all-anime-list.json'\u001b[0m\u001b[1;33m,\u001b[0m \u001b[1;34m'w'\u001b[0m\u001b[1;33m,\u001b[0m \u001b[0mencoding\u001b[0m\u001b[1;33m=\u001b[0m\u001b[1;34m'utf8'\u001b[0m\u001b[1;33m)\u001b[0m \u001b[1;32mas\u001b[0m \u001b[0mf\u001b[0m\u001b[1;33m:\u001b[0m\u001b[1;33m\u001b[0m\u001b[1;33m\u001b[0m\u001b[0m\n\u001b[1;32m----> 2\u001b[1;33m     \u001b[0mf\u001b[0m\u001b[1;33m.\u001b[0m\u001b[0mwrite\u001b[0m\u001b[1;33m(\u001b[0m\u001b[0mres\u001b[0m\u001b[1;33m.\u001b[0m\u001b[0mtext\u001b[0m\u001b[1;33m)\u001b[0m\u001b[1;33m\u001b[0m\u001b[1;33m\u001b[0m\u001b[0m\n\u001b[0m",
      "\u001b[1;31mNameError\u001b[0m: name 'res' is not defined"
     ]
    }
   ],
   "source": [
    "with open('data/1-all-anime-list.json', 'w', encoding='utf8') as f:\n",
    "    f.write(res.text)"
   ]
  },
  {
   "cell_type": "code",
   "execution_count": 5,
   "id": "b5bdebe7",
   "metadata": {},
   "outputs": [],
   "source": [
    "obj = json.load(open('data/1-all-anime-list.json', 'r', encoding='utf8'))"
   ]
  },
  {
   "cell_type": "code",
   "execution_count": 6,
   "id": "ed15539e",
   "metadata": {},
   "outputs": [
    {
     "data": {
      "text/plain": [
       "0"
      ]
     },
     "execution_count": 6,
     "metadata": {},
     "output_type": "execute_result"
    }
   ],
   "source": [
    "obj['code']"
   ]
  },
  {
   "cell_type": "code",
   "execution_count": 7,
   "id": "2f143c1f",
   "metadata": {},
   "outputs": [
    {
     "data": {
      "text/plain": [
       "3357"
      ]
     },
     "execution_count": 7,
     "metadata": {},
     "output_type": "execute_result"
    }
   ],
   "source": [
    "obj['data']['list'].__len__()"
   ]
  },
  {
   "cell_type": "code",
   "execution_count": 8,
   "id": "07dd6384",
   "metadata": {},
   "outputs": [],
   "source": [
    "anime_urls = [p['link'] for p in obj['data']['list']]"
   ]
  },
  {
   "cell_type": "code",
   "execution_count": 9,
   "id": "6050fb1f",
   "metadata": {},
   "outputs": [
    {
     "data": {
      "text/plain": [
       "['https://www.bilibili.com/bangumi/play/ss26801',\n",
       " 'https://www.bilibili.com/bangumi/play/ss34430',\n",
       " 'https://www.bilibili.com/bangumi/play/ss36174',\n",
       " 'https://www.bilibili.com/bangumi/play/ss36429',\n",
       " 'https://www.bilibili.com/bangumi/play/ss38221',\n",
       " 'https://www.bilibili.com/bangumi/play/ss36170',\n",
       " 'https://www.bilibili.com/bangumi/play/ss34004',\n",
       " 'https://www.bilibili.com/bangumi/play/ss24588',\n",
       " 'https://www.bilibili.com/bangumi/play/ss33802',\n",
       " 'https://www.bilibili.com/bangumi/play/ss32982']"
      ]
     },
     "execution_count": 9,
     "metadata": {},
     "output_type": "execute_result"
    }
   ],
   "source": [
    "anime_urls[:10]"
   ]
  },
  {
   "cell_type": "code",
   "execution_count": 12,
   "id": "42136889",
   "metadata": {},
   "outputs": [
    {
     "name": "stdout",
     "output_type": "stream",
     "text": [
      "https://www.bilibili.com/bangumi/media/md22718131/\n",
      "鬼灭之刃\n"
     ]
    }
   ],
   "source": [
    "# get title and cv actor list of 1 sample\n",
    "\n",
    "sample_url = anime_urls[0]\n",
    "res = requests.get(sample_url, headers=H)\n",
    "s = BeautifulSoup(res.text)\n",
    "\n",
    "atag = s.select_one(\".media-title\")\n",
    "\n",
    "print(\"https:\"+atag.attrs['href'])\n",
    "print(atag.text)"
   ]
  },
  {
   "cell_type": "code",
   "execution_count": 13,
   "id": "0c52a97c",
   "metadata": {},
   "outputs": [],
   "source": [
    "import hashlib\n",
    "def sha256(s):  \n",
    "    h = hashlib.sha256()   \n",
    "    h.update(s.encode('utf8'))   \n",
    "    b = h.hexdigest().lower() \n",
    "    return b"
   ]
  },
  {
   "cell_type": "code",
   "execution_count": 14,
   "id": "0387da79",
   "metadata": {},
   "outputs": [],
   "source": [
    "# download all webpages\n",
    "\n",
    "# download 1 webpage\n",
    "\n",
    "def compose_webpage_store(url):\n",
    "    return f'data/2-all/{sha256(url)}.html'\n",
    "\n",
    "import os\n",
    "\n",
    "def down_url(url):\n",
    "    file = compose_webpage_store(url)\n",
    "    \n",
    "    if os.path.exists(file):\n",
    "        return\n",
    "    \n",
    "    res = requests.get(url, headers=H)\n",
    "    if not res.ok:\n",
    "        print(\"ERROR\", url)\n",
    "        return\n",
    "\n",
    "    with open(file, 'w', encoding='utf8') as f:\n",
    "        f.write(res.text)"
   ]
  },
  {
   "cell_type": "code",
   "execution_count": 15,
   "id": "69a3970a",
   "metadata": {},
   "outputs": [
    {
     "name": "stdout",
     "output_type": "stream",
     "text": [
      "ERROR https://www.bilibili.com/bangumi/play/ss5970\n",
      "ERROR https://www.bilibili.com/bangumi/play/ss25727\n",
      "ERROR https://www.bilibili.com/bangumi/play/ss23863\n",
      "ERROR https://www.bilibili.com/bangumi/play/ss25959\n",
      "ERROR https://www.bilibili.com/bangumi/play/ss4347\n",
      "ERROR https://www.bilibili.com/bangumi/play/ss2628\n",
      "ERROR https://www.bilibili.com/bangumi/play/ss23860\n"
     ]
    }
   ],
   "source": [
    "MAX_AMIME = 2500 #500\n",
    "\n",
    "for url in anime_urls[:MAX_AMIME]:\n",
    "    \n",
    "    down_url(url)"
   ]
  },
  {
   "cell_type": "code",
   "execution_count": 148,
   "id": "64895f1b",
   "metadata": {},
   "outputs": [
    {
     "name": "stdout",
     "output_type": "stream",
     "text": [
      "[Errno 2] No such file or directory: 'data/2-all/a4996134f5334a41d48c0d73c500e26d6d4f9a25ff7e2dd46fb6a00f31b15f43.html'\n"
     ]
    }
   ],
   "source": [
    "# foreach file, get title and list\n",
    "animes = []\n",
    "\n",
    "for url in anime_urls[:MAX_AMIME]:\n",
    "    file = compose_webpage_store(url)\n",
    "    \n",
    "    try:\n",
    "        with open(file, 'r', encoding='utf8') as f:\n",
    "            text = f.read()\n",
    "\n",
    "        s = BeautifulSoup(text)\n",
    "\n",
    "        atag = s.select_one(\".media-title\")\n",
    "        \n",
    "        view_url = url\n",
    "        url = \"https:\"+atag.attrs['href']\n",
    "        title = atag.text\n",
    "        \n",
    "        animes.append({\"title\":title, \"url\": url, \"viewUrl\":view_url })\n",
    "    except Exception as e:\n",
    "        print(e)\n",
    "        "
   ]
  },
  {
   "cell_type": "code",
   "execution_count": 149,
   "id": "8f7a2db3",
   "metadata": {},
   "outputs": [
    {
     "data": {
      "text/plain": [
       "[{'title': '鬼灭之刃',\n",
       "  'url': 'https://www.bilibili.com/bangumi/media/md22718131/',\n",
       "  'viewUrl': 'https://www.bilibili.com/bangumi/play/ss26801'},\n",
       " {'title': '咒术回战',\n",
       "  'url': 'https://www.bilibili.com/bangumi/media/md28229899/',\n",
       "  'viewUrl': 'https://www.bilibili.com/bangumi/play/ss34430'},\n",
       " {'title': '工作细胞 第二季',\n",
       "  'url': 'https://www.bilibili.com/bangumi/media/md28231816/',\n",
       "  'viewUrl': 'https://www.bilibili.com/bangumi/play/ss36174'}]"
      ]
     },
     "execution_count": 149,
     "metadata": {},
     "output_type": "execute_result"
    }
   ],
   "source": [
    "animes[:3]"
   ]
  },
  {
   "cell_type": "code",
   "execution_count": 150,
   "id": "67cd8ce2",
   "metadata": {},
   "outputs": [],
   "source": [
    "# download all urls in animes\n",
    "for x in animes:\n",
    "    down_url(x['url'])"
   ]
  },
  {
   "cell_type": "code",
   "execution_count": 146,
   "id": "cf82d4a6",
   "metadata": {},
   "outputs": [
    {
     "data": {
      "text/plain": [
       "[['阿諾斯·波魯迪戈烏多', '鈴木達央'], ['米夏·涅庫羅', '楠木燈'], ['莎夏·涅庫洛', '夏吉優子']]"
      ]
     },
     "execution_count": 146,
     "metadata": {},
     "output_type": "execute_result"
    }
   ],
   "source": [
    "def get_list(raw):\n",
    "    r = []\n",
    "    char_cv_list = raw.split(\"\\\\n\")\n",
    "    for line in char_cv_list:\n",
    "        try:\n",
    "            parts = line.replace(\":\",\"：\").split(\"：\")\n",
    "            assert len(parts) == 2, line\n",
    "            r.append(parts)\n",
    "        except Exception as e:\n",
    "            print(\"WARN\", e)\n",
    "    \n",
    "    return r\n",
    "    \n",
    "get_list(cv_list)"
   ]
  },
  {
   "cell_type": "code",
   "execution_count": 151,
   "id": "836cd515",
   "metadata": {},
   "outputs": [
    {
     "name": "stdout",
     "output_type": "stream",
     "text": [
      "WARN 石川由依\n",
      "WARN 茅原实里\n",
      "WARN 远藤绫\n",
      "WARN 寿美菜子\n",
      "WARN 子安武人\n",
      "WARN 户松遥\n",
      "WARN 内山昂辉\n",
      "WARN 悠木碧\n",
      "WARN Mario..\n",
      "WARN \n",
      "WARN \n",
      "WARN 筑..\n",
      "WARN \n",
      "WARN \n",
      "WARN \n",
      "WARN \n",
      "WARN 松冈祯丞\n",
      "WARN 茅野爱衣\n",
      "WARN 日笠阳子\n",
      "WARN 田村由加莉\n",
      "WARN 能登麻美子\n",
      "WARN 井口裕香\n",
      "WARN 泽城美雪\n",
      "WARN 大川透\n",
      "WARN 兴津和幸\n",
      "WARN Lynn\n",
      "WARN 诹访部顺一\n",
      "WARN 堀江由衣\n",
      "WARN 森奈奈子\n",
      "WARN 竹内良太\n",
      "WARN 大地叶\n",
      "WARN 石上静香\n",
      "WARN 滨野大辉\n",
      "WARN 手冢弘道\n",
      "WARN 钉宫理惠\n",
      "WARN \n",
      "WARN \n",
      "WARN \n",
      "WARN \n",
      "WARN 柊..\n",
      "WARN 醍醐虎汰朗\n",
      "WARN 森七菜\n",
      "WARN 小栗旬\n",
      "WARN 本田翼\n",
      "WARN 倍赏千惠子\n",
      "WARN 吉柳咲良\n",
      "WARN 平泉成\n",
      "WARN 梶裕贵\n",
      "WARN 木村良平\n",
      "WARN 柴田秀胜\n",
      "WARN 野泽雅子\n",
      "WARN 花泽香菜\n",
      "WARN 佐仓绫音\n",
      "WARN \n",
      "WARN \n",
      "WARN ..\n",
      "WARN \n",
      "WARN \n",
      "WARN \n",
      "WARN \n",
      "WARN \",\n",
      "WARN \n",
      "WARN 神木隆之介、上白石萌音、长泽雅美、市原悦子、成田凌、悠木碧、岛崎信长、石川界人、谷花音、寺杣昌纪、大原沙耶香、井上和彦、茶风林、加藤有花、花泽香菜、寺崎裕香\n",
      "WARN \n",
      "WARN \n",
      "WARN ヘルヴィ・オーバ..\n",
      "WARN 柊..\n",
      "WARN \n",
      "WARN 入野自由 \\u002F 早见沙织 \\u002F 松冈茉优 \\u002F 悠木碧 \\u002F 小野贤章 \\u002F 金子有希 \\u002F 石川由依 \\u002F 潘惠美\n",
      "WARN \n",
      "WARN 艾涅丝妲·..\n",
      "WARN \n",
      "WARN \n",
      "WARN 高杉真宙\n",
      "WARN Lynn\n",
      "WARN 藤井雪代\n",
      "WARN 内田雄马\n",
      "WARN 福岛润\n",
      "WARN 田中敦子\n",
      "WARN 三木真一郎\n",
      "WARN \n",
      "WARN \n",
      "WARN \n",
      "WARN \n",
      "WARN \n",
      "WARN \n",
      "WARN \",\n",
      "WARN 源义..\n",
      "WARN \n",
      "WARN 水田山葵\n",
      "WARN 大原惠美\n",
      "WARN 嘉数由美\n",
      "WARN 关智一\n",
      "WARN 木村昴\n",
      "WARN 远藤绫\n",
      "WARN 钉宫理惠\n",
      "WARN 渡边直美\n",
      "WARN 木村拓哉\n",
      "WARN \n",
      "WARN \n",
      "WARN 圣光君：广播：山口理恵\n",
      "WARN \n",
      "WARN 【Special Live】\n",
      "WARN KANA-BOON\n",
      "WARN ゲーム実況者わくわくバンド\n",
      "WARN DISH\\u002F\\u002F\n",
      "WARN ジファブリック\n",
      "WARN FLOW\n",
      "WARN シュノーケル\n",
      "WARN Little Glee Monster\n",
      "WARN \n",
      "WARN 【原创章节朗读剧 \\u002F 名台词现场配音】\n",
      "WARN \n",
      "WARN 【2.5次元音乐剧《火影忍者 晓之音》】\n",
      "WARN 松冈广大（饰漩涡鸣人）\n",
      "WARN 佐藤流司（饰宇智波佐助）\n",
      "WARN 良知真次（饰宇智波鼬）\n",
      "WARN 伊藤优衣（饰春野樱）\n",
      "WARN 定本枫马（饰佐井）\n",
      "WARN  \n",
      "WARN 【游戏实况】\n",
      "WARN \n",
      "WARN 【主持人】\n",
      "WARN 井上裕介 \\u002F 美山加恋\n",
      "WARN 服部静华\n",
      "WARN 胜生真沙子\n",
      "WARN 阿知波皋月\n",
      "WARN 吉田美保\n",
      "WARN イル..\n",
      "WARN 艾涅丝妲·..\n",
      "WARN \n",
      "WARN \n",
      "WARN 索尼娅·..\n",
      "WARN 石见舞菜香\n",
      "WARN 入野自由\n",
      "WARN 茅野爱衣\n",
      "WARN 梶裕贵\n",
      "WARN 泽城美雪\n",
      "WARN 细谷佳正\n",
      "WARN 佐藤利奈\n",
      "WARN 日笠阳子\n",
      "WARN 久野美咲\n",
      "WARN 杉田智和\n",
      "WARN 平田广明\n",
      "WARN 黑之睡莲：若宫 惠：戸松遥\n",
      "WARN \n",
      "WARN \n",
      "WARN 夏洛特：鹿目询子：後藤邑子\n",
      "WARN \n",
      "WARN \n",
      "WARN \",\n",
      "WARN \n",
      "WARN \n",
      "WARN \n",
      "WARN \n",
      "WARN 蓝宝石..\n",
      "WARN 康斯坦策·布朗施旺·阿尔布雷..\n",
      "WARN 松冈祯丞、户松遥、伊藤加奈惠、竹达彩奈、日高里菜、高垣彩阳、泽城美雪、平田广明、安元洋贵、山寺宏一\n",
      "WARN \n",
      "WARN \n",
      "WARN \n",
      "WARN \n",
      "WARN \",\n",
      "WARN \n",
      "WARN \n",
      "WARN 水田山葵\n",
      "WARN 大原惠美\n",
      "WARN 嘉数由美\n",
      "WARN 木村昴\n",
      "WARN 关智一\n",
      "WARN 大谷育江\n",
      "WARN 皆川纯子\n",
      "WARN 铃木晶子\n",
      "WARN 渡边明乃\n",
      "WARN 广濑爱丽丝\n",
      "WARN 中冈创一\n",
      "WARN 吉田钢太郎\n",
      "WARN 柳乐优弥\n",
      "WARN 高桥茂雄\n",
      "WARN 高木涉\n",
      "WARN 松本保典\n",
      "WARN 荻野志保子\n",
      "WARN 庆长佑香\n",
      "WARN 矢口麻美\n",
      "WARN 寺岛拓笃\n",
      "WARN 三石琴乃\n",
      "WARN 武田幸史\n",
      "WARN 生天目仁美\n",
      "WARN 金光宣明\n",
      "WARN 村濑迪与\n",
      "WARN 鸟海胜美\n",
      "WARN 小原好美\n",
      "WARN 酒井蓝\n",
      "WARN \n",
      "WARN \",\n",
      "WARN \n",
      "WARN 西奥·居喜亚..\n",
      "WARN 田..\n",
      "WARN トゥーサン・ネ..\n",
      "WARN 迈..\n",
      "WARN \",\n",
      "WARN \",\n",
      "WARN \n",
      "WARN \",\n",
      "WARN 广濑铃\n",
      "WARN 菅田将晖\n",
      "WARN 宫野真守\n",
      "WARN 松隆子\n",
      "WARN 花泽香菜\n",
      "WARN 浅沼晋太郎\n",
      "WARN 丰永利行\n",
      "WARN 梶裕贵\n",
      "WARN 三木真一郎\n",
      "WARN 樱井孝宏\n",
      "WARN 根谷美智子\n",
      "WARN 飞田展男\n",
      "WARN 宫本充\n",
      "WARN 立木文彦\n",
      "WARN 斋藤千和\n",
      "WARN 岛村侑\n",
      "WARN 新垣樽助\n",
      "WARN 种崎敦美\n",
      "WARN 井之上润\n",
      "WARN 小原好美\n",
      "WARN 广田悠美\n",
      "WARN 内田修一\n",
      "WARN \",\n",
      "WARN 凡伦蒂娜·葛..\n",
      "WARN \",\n",
      "WARN 阿尔玛=卡尔..\n",
      "WARN \",\n",
      "WARN 麦扎..\n"
     ]
    }
   ],
   "source": [
    "pattern = r'\"actors\"[^\"]*\"(.+?)\"'\n",
    "\n",
    "for x in animes:\n",
    "    try:\n",
    "        title = x['title']\n",
    "        url = x['url']\n",
    "\n",
    "        file = compose_webpage_store(url)\n",
    "\n",
    "        if not os.path.exists(file):\n",
    "            print(\"file NOT exist for url:\", url)\n",
    "\n",
    "        with open(file, 'r', encoding='utf8') as f:\n",
    "            text = f.read()\n",
    "\n",
    "        cv_list_raw = re.findall(pattern, text)[0]\n",
    "        actors = get_list(cv_list_raw)\n",
    "        \n",
    "        x['cv'] = actors\n",
    "    except Exception as e:\n",
    "        print(\"ERROR\", e, title ,url)\n",
    "    \n",
    "    "
   ]
  },
  {
   "cell_type": "code",
   "execution_count": 152,
   "id": "d00537d1",
   "metadata": {
    "scrolled": true
   },
   "outputs": [
    {
     "data": {
      "text/plain": [
       "[{'title': '鬼灭之刃',\n",
       "  'url': 'https://www.bilibili.com/bangumi/media/md22718131/',\n",
       "  'viewUrl': 'https://www.bilibili.com/bangumi/play/ss26801',\n",
       "  'cv': [['灶门炭治郎', '花江夏树'],\n",
       "   ['灶门祢豆子', '鬼头明里'],\n",
       "   ['我妻善逸', '下野纮'],\n",
       "   ['嘴平伊之助', '松冈祯丞'],\n",
       "   ['富冈义勇', '樱井孝宏'],\n",
       "   ['鳞泷左近次', '大冢芳忠'],\n",
       "   ['锖兔', '梶裕贵'],\n",
       "   ['真菰', '加隈亚衣'],\n",
       "   ['不死川玄弥', '冈本信彦'],\n",
       "   ['产屋敷耀哉', '森川智之'],\n",
       "   ['产屋敷辉利哉', '悠木碧'],\n",
       "   ['产屋敷雏衣', '井泽诗织'],\n",
       "   ['钢铁冢萤', '浪川大辅'],\n",
       "   ['鎹鸦', '山崎巧'],\n",
       "   ['佛堂鬼', '绿川光'],\n",
       "   ['手鬼', '子安武人']]},\n",
       " {'title': '咒术回战',\n",
       "  'url': 'https://www.bilibili.com/bangumi/media/md28229899/',\n",
       "  'viewUrl': 'https://www.bilibili.com/bangumi/play/ss34430',\n",
       "  'cv': [['虎杖悠仁', '榎木淳弥'],\n",
       "   ['伏黑惠', '内田雄马'],\n",
       "   ['钉崎野蔷薇', '濑户麻沙美'],\n",
       "   ['五条悟', '中村悠一'],\n",
       "   ['两面宿傩', '诹访部顺一'],\n",
       "   ['禅院真希', '小松未可子'],\n",
       "   ['狗卷棘', '内山昂辉'],\n",
       "   ['熊猫', '关智一'],\n",
       "   ['七海建人', '津田健次郎'],\n",
       "   ['伊地知洁高', '岩田光央'],\n",
       "   ['家入硝子', '远藤绫'],\n",
       "   ['夜蛾正道', '黒田崇矢'],\n",
       "   ['东堂葵', '木村昴'],\n",
       "   ['禅院真依', '井上麻里奈'],\n",
       "   ['三轮霞', '赤﨑千夏'],\n",
       "   ['乐岩寺嘉伸', '麦人'],\n",
       "   ['吉野顺平', '山谷祥生'],\n",
       "   ['夏油杰', '樱井孝宏'],\n",
       "   ['漏瑚', '千叶繁'],\n",
       "   ['花御', '田中敦子'],\n",
       "   ['真人', '岛崎信长']]},\n",
       " {'title': '工作细胞 第二季',\n",
       "  'url': 'https://www.bilibili.com/bangumi/media/md28231816/',\n",
       "  'viewUrl': 'https://www.bilibili.com/bangumi/play/ss36174',\n",
       "  'cv': [['红细胞', '花泽香菜'],\n",
       "   ['白细胞（中性粒细胞）', '前野智昭'],\n",
       "   ['杀伤性T细胞\\\\u002F记忆T细胞', '小野大辅'],\n",
       "   ['巨噬细胞', '井上喜久子'],\n",
       "   ['血小板', '长绳麻理亚'],\n",
       "   ['血小板（反帽子酱）', '石见舞菜香'],\n",
       "   ['巨核细胞', '甲斐田裕子'],\n",
       "   ['记忆细胞', '中村悠一'],\n",
       "   ['B细胞', '千叶翔也'],\n",
       "   ['肥大细胞', '川澄绫子'],\n",
       "   ['NK细胞', '行成桃姬'],\n",
       "   ['树突状细胞', '冈本信彦'],\n",
       "   ['辅助T细胞', '樱井孝宏'],\n",
       "   ['调节T细胞', '早见沙织'],\n",
       "   ['一般细胞', '小林裕介'],\n",
       "   ['乳酸菌（黑）', '吉田有里'],\n",
       "   ['乳酸菌（红）', '高桥李依'],\n",
       "   ['乳酸菌（熊猫）', '藤原夏海'],\n",
       "   ['乳酸菌（斑）', '久保由利香'],\n",
       "   ['癌细胞', '石田彰'],\n",
       "   ['旁白', '能登麻美子']]},\n",
       " {'title': 'Re：从零开始的异世界生活 第二季 后半',\n",
       "  'url': 'https://www.bilibili.com/bangumi/media/md28232073/',\n",
       "  'viewUrl': 'https://www.bilibili.com/bangumi/play/ss36429',\n",
       "  'cv': [['菜月昴', '小林裕介'],\n",
       "   ['爱蜜莉雅', '高桥李依'],\n",
       "   ['帕克', '内山夕实'],\n",
       "   ['雷姆', '水濑祈'],\n",
       "   ['拉姆', '村川梨衣'],\n",
       "   ['碧翠丝', '新井里美'],\n",
       "   ['罗兹瓦尔·L·梅札斯', '子安武人'],\n",
       "   ['嘉飞尔·汀泽尔', '冈本信彦'],\n",
       "   ['奥托·苏文', '天崎滉平'],\n",
       "   ['弗雷德莉卡·鲍尔曼', '名冢佳织'],\n",
       "   ['佩特拉·雷蒂', '高野麻里佳'],\n",
       "   ['琉兹·毕尔玛', '田中爱美'],\n",
       "   ['艾尔莎·葛兰西尔特', '能登麻美子'],\n",
       "   ['艾姬多娜', '坂本真绫']]},\n",
       " {'title': '关于我转生变成史莱姆这档事 转生史莱姆日记',\n",
       "  'url': 'https://www.bilibili.com/bangumi/media/md28233903/',\n",
       "  'viewUrl': 'https://www.bilibili.com/bangumi/play/ss38221',\n",
       "  'cv': [['利姆鲁', '冈咲美保'],\n",
       "   ['红丸', '古川慎'],\n",
       "   ['朱菜', '千本木彩花'],\n",
       "   ['紫苑', 'M·A·O'],\n",
       "   ['苍影', '江口拓也'],\n",
       "   ['白老', '大冢芳忠'],\n",
       "   ['黑兵卫', '柳田淳一'],\n",
       "   ['利古路德', '山本兼平'],\n",
       "   ['哥布塔', '泊明日菜'],\n",
       "   ['岚牙', '小林亲弘'],\n",
       "   ['盖鲁德', '山口太郎'],\n",
       "   ['加维尔', '福岛润'],\n",
       "   ['苍华', '大久保瑠美'],\n",
       "   ['托蕾妮', '田中理惠'],\n",
       "   ['米莉姆', '日高里菜']]},\n",
       " {'title': '关于我转生变成史莱姆这档事 第二季',\n",
       "  'url': 'https://www.bilibili.com/bangumi/media/md28231812/',\n",
       "  'viewUrl': 'https://www.bilibili.com/bangumi/play/ss36170',\n",
       "  'cv': [['利姆鲁', '冈咲美保'],\n",
       "   ['大贤者', '丰口惠美'],\n",
       "   ['维鲁德拉', '前野智昭'],\n",
       "   ['红丸', '古川慎'],\n",
       "   ['朱菜', '千本木彩花'],\n",
       "   ['紫苑', 'M·A·O'],\n",
       "   ['苍影', '江口拓也'],\n",
       "   ['白老', '大冢芳忠'],\n",
       "   ['利古路德', '山本兼平'],\n",
       "   ['哥布塔', '泊明日菜'],\n",
       "   ['岚牙', '小林亲弘'],\n",
       "   ['盖鲁德', '山口太郎'],\n",
       "   ['加维尔', '福岛润'],\n",
       "   ['托蕾妮', '田中理惠'],\n",
       "   ['米莉姆', '日高里菜'],\n",
       "   ['拉米莉丝', '春野杏'],\n",
       "   ['迪亚波罗', '樱井孝宏']]},\n",
       " {'title': '鬼灭之刃（中配）',\n",
       "  'url': 'https://www.bilibili.com/bangumi/media/md28229443/',\n",
       "  'viewUrl': 'https://www.bilibili.com/bangumi/play/ss34004',\n",
       "  'cv': [['灶门炭治郎', '星潮'],\n",
       "   ['灶门祢豆子', '沈念如'],\n",
       "   ['我妻善逸', '李兰陵'],\n",
       "   ['嘴平伊之助', '皇贞季'],\n",
       "   ['富冈义勇', '赵毅 '],\n",
       "   ['鳞泷左近次', '李璐 '],\n",
       "   ['锖兔', '陈张太康 '],\n",
       "   ['真菰', '闫夜桥'],\n",
       "   ['产屋敷耀哉', '姜广涛 '],\n",
       "   ['炼狱杏寿郎', '齐斯伽'],\n",
       "   ['宇髄天元', '杨天翔'],\n",
       "   ['甘露寺蜜璃', '沈念如'],\n",
       "   ['时透无一郎', '马正阳'],\n",
       "   ['蝴蝶忍', '龟娘'],\n",
       "   ['悲鸣屿行冥', '图特哈蒙'],\n",
       "   ['伊黑小芭内', '陈张太康'],\n",
       "   ['不死川实弥', '郝祥海'],\n",
       "   ['鬼舞辻无惨', '夏磊'],\n",
       "   ['珠世', '山新'],\n",
       "   ['愈史郎', '胡霖'],\n",
       "   ['矢琶羽', '林帽帽'],\n",
       "   ['朱纱丸', '叶知秋'],\n",
       "   ['累', '彭尧'],\n",
       "   ['栗花落香奈乎', '阎么么'],\n",
       "   ['不死川玄弥', '刘明月']]},\n",
       " {'title': '工作细胞',\n",
       "  'url': 'https://www.bilibili.com/bangumi/media/md102392/',\n",
       "  'viewUrl': 'https://www.bilibili.com/bangumi/play/ss24588',\n",
       "  'cv': [['红细胞', '花泽香菜'],\n",
       "   ['白细胞（中性粒细胞）', '前野智昭'],\n",
       "   ['杀伤性T细胞', '小野大辅'],\n",
       "   ['巨噬细胞', '井上喜久子'],\n",
       "   ['血小板', '长绳麻理亚'],\n",
       "   ['辅助性T细胞', '樱井孝宏'],\n",
       "   ['调节性T细胞', '早见沙织'],\n",
       "   ['树突状细胞', '冈本信彦'],\n",
       "   ['嗜酸性粒细胞', 'M·A·O'],\n",
       "   ['记忆细胞', '中村悠一'],\n",
       "   ['肥大细胞', '川澄绫子'],\n",
       "   ['前辈红细胞', '远藤绫'],\n",
       "   ['肺炎球菌', '吉野裕行']]},\n",
       " {'title': 'Re：从零开始的异世界生活 第二季 前半',\n",
       "  'url': 'https://www.bilibili.com/bangumi/media/md28229233/',\n",
       "  'viewUrl': 'https://www.bilibili.com/bangumi/play/ss33802',\n",
       "  'cv': [['菜月昴', '小林裕介'],\n",
       "   ['爱蜜莉雅', '高桥李依'],\n",
       "   ['帕克', '内山夕实'],\n",
       "   ['雷姆', '水濑祈'],\n",
       "   ['拉姆', '村川梨衣'],\n",
       "   ['碧翠丝', '新井里美'],\n",
       "   ['罗兹瓦尔·L·梅札斯', '子安武人'],\n",
       "   ['嘉飞尔·汀泽尔', '冈本信彦'],\n",
       "   ['奥托·苏文', '天崎滉平'],\n",
       "   ['弗雷德莉卡·鲍尔曼', '名冢佳织'],\n",
       "   ['佩特拉·雷蒂', '高野麻里佳'],\n",
       "   ['琉兹·毕尔玛', '田中爱美'],\n",
       "   ['艾尔莎·葛兰西尔特', '能登麻美子'],\n",
       "   ['艾姬多娜', '坂本真绫']]},\n",
       " {'title': '辉夜大小姐想让我告白？～天才们的恋爱头脑战～',\n",
       "  'url': 'https://www.bilibili.com/bangumi/media/md28228367/',\n",
       "  'viewUrl': 'https://www.bilibili.com/bangumi/play/ss32982',\n",
       "  'cv': [['四宫辉夜', '古贺葵'],\n",
       "   ['白银御行', '古川慎'],\n",
       "   ['藤原千花', '小原好美'],\n",
       "   ['石上优', '铃木崚汰'],\n",
       "   ['伊井野弥子', '富田美忧'],\n",
       "   ['早坂爱', '花守由美里'],\n",
       "   ['柏木渚', '麻仓桃'],\n",
       "   ['大佛小钵', '日高里菜'],\n",
       "   ['柏木的男友', '八代拓'],\n",
       "   ['旁白', '青山穰']]}]"
      ]
     },
     "execution_count": 152,
     "metadata": {},
     "output_type": "execute_result"
    }
   ],
   "source": [
    "animes[:10]"
   ]
  },
  {
   "cell_type": "code",
   "execution_count": 156,
   "id": "7f9f9cf1",
   "metadata": {},
   "outputs": [],
   "source": [
    "import json\n",
    "\n",
    "with open('data/3-animes.json', 'w', encoding='utf8') as f:\n",
    "    json.dump(animes, f, ensure_ascii=False, indent=4)"
   ]
  },
  {
   "cell_type": "code",
   "execution_count": null,
   "id": "725fcc55",
   "metadata": {},
   "outputs": [],
   "source": []
  }
 ],
 "metadata": {
  "kernelspec": {
   "display_name": "Python 3",
   "language": "python",
   "name": "python3"
  },
  "language_info": {
   "codemirror_mode": {
    "name": "ipython",
    "version": 3
   },
   "file_extension": ".py",
   "mimetype": "text/x-python",
   "name": "python",
   "nbconvert_exporter": "python",
   "pygments_lexer": "ipython3",
   "version": "3.8.3"
  }
 },
 "nbformat": 4,
 "nbformat_minor": 5
}
