{
 "cells": [
  {
   "cell_type": "markdown",
   "id": "1d8164c1",
   "metadata": {},
   "source": [
    "第一种方法是结构化的方法。首先思考结构化的方法。如果信息整理难度过大就走统计学的路。\n",
    "\n",
    "第二种方法是统计学的方法。\n",
    "\n",
    "第三种方法是手动导入。至少对于我个人看过的番剧来说，手动导入是可以实现的。另外，如果有社区的话，实现起来也非常容易。但是，这就不能体现技术上的geek感。\n",
    "\n",
    "\n"
   ]
  },
  {
   "cell_type": "markdown",
   "id": "186593f9",
   "metadata": {},
   "source": [
    "注：如果采用selenium之类的，可以使用这个\n",
    "\n",
    "```js\n",
    "$('.mic-evaluate')[0].querySelector('span').innerText\n",
    "\n",
    "// or \n",
    "document.querySelector('.mic-evaluate').querySelector('span').innerText\n",
    "\n",
    "\n",
    "`御坂美琴：佐藤利奈\n",
    "佐天泪子：伊藤加奈惠\n",
    "初春饰利：丰崎爱生\n",
    "白井黑子：新井里美\n",
    "麦野沈利：小清水亚美\n",
    "绢旗最爱：赤﨑千夏\n",
    "一方通行：岡本信彦\n",
    "芙兰达·赛维伦：内田真礼\n",
    "布束砥信：葉山いくみ\n",
    "`\n",
    "```"
   ]
  },
  {
   "cell_type": "markdown",
   "id": "ff193f5d",
   "metadata": {},
   "source": [
    "网址的问题\n",
    "\n",
    "https://www.bilibili.com/bangumi/media/md427\n",
    "\n",
    "关键是找到md后面的数字的列表，之后就好办了。\n",
    "\n",
    "不管怎样，先验证爬虫吧。"
   ]
  },
  {
   "cell_type": "code",
   "execution_count": 50,
   "id": "96e7e8f7",
   "metadata": {},
   "outputs": [],
   "source": [
    "import requests\n",
    "from bs4 import BeautifulSoup\n",
    "import re"
   ]
  },
  {
   "cell_type": "code",
   "execution_count": 51,
   "id": "657cc777",
   "metadata": {},
   "outputs": [],
   "source": [
    "H = {\"User-Agent\":\"Mozilla/5.0 (Windows NT 10.0; Win64; x64; rv:89.0) Gecko/20100101 Firefox/89.0\"}\n",
    "\n",
    "res = requests.get('https://www.bilibili.com/bangumi/media/md427', headers=H)"
   ]
  },
  {
   "cell_type": "code",
   "execution_count": 13,
   "id": "75459433",
   "metadata": {},
   "outputs": [],
   "source": [
    "with open(\"a.html\", 'w', encoding='utf8') as f:\n",
    "    f.write(res.text)"
   ]
  },
  {
   "cell_type": "code",
   "execution_count": 27,
   "id": "8e730366",
   "metadata": {},
   "outputs": [
    {
     "data": {
      "text/plain": [
       "'御坂美琴：佐藤利奈\\\\n佐天泪子：伊藤加奈惠\\\\n初春饰利：丰崎爱生\\\\n白井黑子：新井里美\\\\n麦野沈利：小清水亚美\\\\n绢旗最爱：赤﨑千夏\\\\n一方通行：岡本信彦\\\\n芙兰达·赛维伦：内田真礼\\\\n布束砥信：葉山いくみ\\\\n'"
      ]
     },
     "execution_count": 27,
     "metadata": {},
     "output_type": "execute_result"
    }
   ],
   "source": [
    "# 方法1 \"actors\": \"...\"\n",
    "\n",
    "pattern = r'\"actors\"[^\"]*\"(.+?)\"'\n",
    "re.findall(pattern, res.text)[0]"
   ]
  },
  {
   "cell_type": "markdown",
   "id": "d628ec62",
   "metadata": {},
   "source": [
    "接下来就是找url的环节。\n",
    "\n"
   ]
  },
  {
   "cell_type": "code",
   "execution_count": 28,
   "id": "8afeb537",
   "metadata": {},
   "outputs": [],
   "source": [
    "res = requests.get('https://www.bilibili.com/bangumi/play/ss3398', headers=H)"
   ]
  },
  {
   "cell_type": "code",
   "execution_count": 30,
   "id": "d9fc6f5b",
   "metadata": {},
   "outputs": [],
   "source": [
    "with open('b.html','w',encoding='utf8') as f:\n",
    "    f.write(res.text)"
   ]
  },
  {
   "cell_type": "code",
   "execution_count": 32,
   "id": "ba617023",
   "metadata": {},
   "outputs": [],
   "source": [
    "s = BeautifulSoup(res.text)"
   ]
  },
  {
   "cell_type": "code",
   "execution_count": 47,
   "id": "1c9e12cc",
   "metadata": {},
   "outputs": [
    {
     "name": "stdout",
     "output_type": "stream",
     "text": [
      "https://www.bilibili.com/bangumi/media/md3398/\n",
      "冰菓\n"
     ]
    }
   ],
   "source": [
    "atag = s.select_one(\".media-title\")\n",
    "\n",
    "print(\"https:\"+atag.attrs['href'])\n",
    "print(atag.text)"
   ]
  },
  {
   "cell_type": "markdown",
   "id": "1ed1ec0e",
   "metadata": {},
   "source": [
    "# 正片开始"
   ]
  },
  {
   "cell_type": "code",
   "execution_count": 58,
   "id": "6149fa5c",
   "metadata": {},
   "outputs": [
    {
     "data": {
      "text/plain": [
       "'https://api.bilibili.com/pgc/season/index/result?season_version=-1&area=-1&is_finish=-1&copyright=-1&season_status=-1&season_month=-1&year=-1&style_id=-1&order=3&st=1&sort=0&page=10&season_type=1&pagesize=100&type=1'"
      ]
     },
     "execution_count": 58,
     "metadata": {},
     "output_type": "execute_result"
    }
   ],
   "source": [
    "# 获取全部番剧列表，按照排行榜排序\n",
    "\n",
    "def compose_url(page, page_size):\n",
    "    tmpl = \"https://api.bilibili.com/pgc/season/index/result?season_version=-1&area=-1&is_finish=-1&copyright=-1&season_status=-1&season_month=-1&year=-1&style_id=-1&order=3&st=1&sort=0&page={0}&season_type=1&pagesize={1}&type=1\"\n",
    "    return tmpl.format(page, page_size)\n",
    "\n",
    "compose_url(10,100)"
   ]
  },
  {
   "cell_type": "code",
   "execution_count": 59,
   "id": "b6cc1ea3",
   "metadata": {},
   "outputs": [],
   "source": [
    "huge_url = compose_url(1, 10000)"
   ]
  },
  {
   "cell_type": "code",
   "execution_count": 60,
   "id": "8e0896c1",
   "metadata": {},
   "outputs": [],
   "source": [
    "res = requests.get(huge_url, headers=H)"
   ]
  },
  {
   "cell_type": "code",
   "execution_count": 69,
   "id": "a5df986d",
   "metadata": {},
   "outputs": [],
   "source": [
    "with open('data/1-all-anime-list.json', 'w', encoding='utf8') as f:\n",
    "    f.write(res.text)"
   ]
  },
  {
   "cell_type": "code",
   "execution_count": 63,
   "id": "7f01ddf6",
   "metadata": {},
   "outputs": [],
   "source": [
    "obj = res.json()"
   ]
  },
  {
   "cell_type": "code",
   "execution_count": 65,
   "id": "187fc207",
   "metadata": {},
   "outputs": [
    {
     "data": {
      "text/plain": [
       "0"
      ]
     },
     "execution_count": 65,
     "metadata": {},
     "output_type": "execute_result"
    }
   ],
   "source": [
    "obj['code']"
   ]
  },
  {
   "cell_type": "code",
   "execution_count": 67,
   "id": "5ab65b43",
   "metadata": {},
   "outputs": [
    {
     "data": {
      "text/plain": [
       "3357"
      ]
     },
     "execution_count": 67,
     "metadata": {},
     "output_type": "execute_result"
    }
   ],
   "source": [
    "obj['data']['list'].__len__()"
   ]
  },
  {
   "cell_type": "code",
   "execution_count": 68,
   "id": "0e4fa794",
   "metadata": {},
   "outputs": [
    {
     "name": "stderr",
     "output_type": "stream",
     "text": [
      "命令语法不正确。\n"
     ]
    }
   ],
   "source": [
    "anime_urls = [p['link'] for p in ]"
   ]
  },
  {
   "cell_type": "code",
   "execution_count": null,
   "id": "2f5c3883",
   "metadata": {},
   "outputs": [],
   "source": []
  }
 ],
 "metadata": {
  "kernelspec": {
   "display_name": "Python 3",
   "language": "python",
   "name": "python3"
  },
  "language_info": {
   "codemirror_mode": {
    "name": "ipython",
    "version": 3
   },
   "file_extension": ".py",
   "mimetype": "text/x-python",
   "name": "python",
   "nbconvert_exporter": "python",
   "pygments_lexer": "ipython3",
   "version": "3.8.3"
  }
 },
 "nbformat": 4,
 "nbformat_minor": 5
}
