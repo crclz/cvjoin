{
 "cells": [
  {
   "cell_type": "markdown",
   "id": "88b4b7a9",
   "metadata": {},
   "source": [
    "第一种方法是结构化的方法。首先思考结构化的方法。如果信息整理难度过大就走统计学的路。\n",
    "\n",
    "第二种方法是统计学的方法。\n",
    "\n",
    "第三种方法是手动导入。至少对于我个人看过的番剧来说，手动导入是可以实现的。另外，如果有社区的话，实现起来也非常容易。但是，这就不能体现技术上的geek感。\n",
    "\n",
    "\n"
   ]
  },
  {
   "cell_type": "markdown",
   "id": "a50eeff2",
   "metadata": {},
   "source": [
    "```js\n",
    "$('.mic-evaluate')[0].querySelector('span').innerText\n",
    "\n",
    "// or \n",
    "document.querySelector('.mic-evaluate').querySelector('span').innerText\n",
    "\n",
    "\n",
    "`御坂美琴：佐藤利奈\n",
    "佐天泪子：伊藤加奈惠\n",
    "初春饰利：丰崎爱生\n",
    "白井黑子：新井里美\n",
    "麦野沈利：小清水亚美\n",
    "绢旗最爱：赤﨑千夏\n",
    "一方通行：岡本信彦\n",
    "芙兰达·赛维伦：内田真礼\n",
    "布束砥信：葉山いくみ\n",
    "`\n",
    "```"
   ]
  },
  {
   "cell_type": "markdown",
   "id": "89e6442a",
   "metadata": {},
   "source": [
    "网址的问题\n",
    "\n",
    "https://www.bilibili.com/bangumi/media/md427\n",
    "\n",
    "关键是找到md后面的数字的列表，之后就好办了。\n",
    "\n",
    "不管怎样，先验证爬虫吧。"
   ]
  },
  {
   "cell_type": "code",
   "execution_count": 4,
   "id": "e4da5db6",
   "metadata": {},
   "outputs": [],
   "source": [
    "import requests\n",
    "from bs4 import BeautifulSoup"
   ]
  },
  {
   "cell_type": "code",
   "execution_count": 11,
   "id": "422f79bd",
   "metadata": {},
   "outputs": [],
   "source": [
    "H = {\"User-Agent\":\"Mozilla/5.0 (Windows NT 10.0; Win64; x64; rv:89.0) Gecko/20100101 Firefox/89.0\"}\n",
    "\n",
    "res = requests.get('https://www.bilibili.com/bangumi/media/md427', headers=H)"
   ]
  },
  {
   "cell_type": "code",
   "execution_count": 12,
   "id": "851d3cfd",
   "metadata": {},
   "outputs": [
    {
     "data": {
      "text/plain": [
       "'<!DOCTYPE html><html lang=\"zh-Hans\"><head><meta charset=\"utf-8\"><title></title><meta name=\"description\" content=\"《科学超电磁炮（とある科学の超电磁炮）》是以镰池和马所著作的轻小说《魔法禁书目录》的人气角色御坂美琴为主角所作的外传漫画，由冬川基作画，连载于月刊Comic电击大王，至2009年12月已经累计销售18\"><meta name=\"keywords\" content=\",科学超电磁炮,某科学的超电磁炮,とある科学の超電磁砲,超炮S\"><meta name=\"author\" content=\"哔哩哔哩番剧\"><meta http-equiv=\"X-UA-Compatible\" content=\"IE=edge\"><meta property=\"og:title\" content=\"某科学的超电磁炮S\"><meta property=\"og:url\" content=\"//www.bilibili.com/bangumi/media/md427/\"><meta property=\"og:image\" content=\"http://i0.hdslb.com/bfs/bangumi/image/090d4aa97754d1d80206e461eb633b28b9deed07.jpg\"><meta name=\"spm_prefix\" content=\"666.19\"><link rel=\"dns-prefetch\" href=\"//s1.hdslb.com\"><link rel=\"dns-prefetch\" href=\"//s2.hdslb.com\"><link rel=\"dns-prefetch\" href=\"//s3.hdslb.com\"><link rel=\"dns-prefetch\" href=\"//i0.hdslb.com\"><link rel=\"dns-prefetch\" href=\"//i1.hdslb.com\"><link rel=\"dns-prefetch\" href=\"//i2.hdslb.com\"><link rel=\"dns-prefetch\" href=\"//static.hdslb.com\"><link rel=\"shortcut icon\" href=\"//static.hdslb.com/images/favicon.ico\"><link rel=\"search\" type=\"application/opensearchdescription+xml\" href=\"//static.hdslb.com/opensearch.xml\" title=\"哔哩哔哩\"><script type=\"text/javascript\" src=\"//static.hdslb.com/js/jquery.min.js\"></script><script type=\"text/javascript\" src=\"//static.hdslb.com/vip/dist/js/vipPlugin.v2.js\"></script><script type=\"text/javascript\" src=\"//static.hdslb.com/js/promise.auto.min.js\"></script><script type=\"text/javascript\" src=\"//s1.hdslb.com/bfs/seed/jinkela/header-v2/header.js\"></script><link rel=\"stylesheet\" href=\"//s1.hdslb.com/bfs/static/review/media/css/review-media.1.700fdc08746cd84787d863693d43b886d7caf9e3.css\"><link rel=\"stylesheet\" href=\"//s1.hdslb.com/bfs/static/review/media/css/review-media.0.700fdc08746cd84787d863693d43b886d7caf9e3.css\"></head><body><div id=\"biliMainHeader\" style=\"height:43px\"></div><div id=\"app\" data-server-rendered=\"true\" class=\"media-detail-wrp\"><div class=\"media-info-wrp\"><div class=\"bangumi-info-bg-wrp\"><div class=\"bangumi-info-blurbg-wrapper\" style=\"top:-56px;\"><div class=\"bangumi-info-blurbg blur\" style=\"background-image:url(//i0.hdslb.com/bfs/bangumi/image/090d4aa97754d1d80206e461eb633b28b9deed07.jpg@130w_175h.jpg);\"></div></div> <!----></div> <div class=\"media-info-content\"><div class=\"media-info-inner clearfix\"><div class=\"media-preview\"><div class=\"common-lazy-img\"><img alt=\"某科学的超电磁炮S\" src=\"\"></div> <!----></div> <div class=\"media-info-r\"><div class=\"media-info-title\"><span class=\"media-info-title-t\">某科学的超电磁炮S</span> <span class=\"media-tags\" style=\"opacity:0;\"><span class=\"media-tag\">校园</span><span class=\"media-tag\">战斗</span><span class=\"media-tag\">奇幻</span></span></div> <div class=\"media-info-datas\"><div class=\"media-info-count\"><span class=\"media-info-count-item media-info-count-item-play\"><span class=\"media-info-label\">总播放</span> <em>6979.4万</em></span> <span class=\"media-info-count-item media-info-count-item-fans\"><span class=\"media-info-label\">系列追番人数</span> <em>699.7万</em></span> <span class=\"media-info-count-item media-info-count-item-review\"><span class=\"media-info-label\">弹幕总数</span> <em>374.9万</em></span></div> <div class=\"media-info-score-wrp\"><div class=\"media-info-score\"><div class=\"media-info-score-content\">9.7</div> <div class=\"media-info-star-wrapper\"><span class=\"review-stars\"><i class=\"icon-star icon-star-light\"><i></i></i><i class=\"icon-star icon-star-light\"><i></i></i><i class=\"icon-star icon-star-light\"><i></i></i><i class=\"icon-star icon-star-light\"><i></i></i><i class=\"icon-star icon-star-light\"><i></i></i></span> <div class=\"media-info-review-times\">26928人评</div> <div class=\"to-review-btn\"><i class=\"icon-edit\"></i>\\n                我要点评\\n            </div></div></div> <!----></div></div> <div class=\"media-info-time\"><span>2013年4月12日开播</span> <span>已完结, 全24话</span></div> <div class=\"media-info-intro\"><span class=\"media-info-intro-text\"></span> <!----> <!----></div> <div class=\"media-info-btns\"><div class=\"btn-pay-wrapper vip-only\"><!----> <a href=\"javascript:;\" class=\"pay-btn \">开通大会员观看</a> <div class=\"pic-wrapper\"></div></div> <div class=\"bangumi-btn\"><div class=\"btn-follow\"><i></i>追番</div> <!----></div> <div class=\"share-module\"><ul class=\"share-list clearfix\"><li share-type=\"app\" class=\"share-btn btn-wchat\"></li> <li share-type=\"weibo\" class=\"share-btn btn-weibo\"></li> <li share-type=\"qqzone\" class=\"share-btn btn-qqzone\"></li> <li share-type=\"qq\" class=\"share-btn btn-qq\"></li> <li share-type=\"baidu\" class=\"share-btn btn-baidu\"></li></ul></div></div></div></div></div></div> <div class=\"media-tab-wrp\"><div class=\"media-tab-nav\"><ul class=\"clearfix\"><li>作品详情</li><li>长评 ( 93 )</li><li>短评 ( 6885 )</li></ul></div> <div class=\"media-tab-content\"><!----></div></div> <div class=\"short-review-masker\" style=\"display:none;\"><div class=\"short-review-content\"><div class=\"dialog-close\"></div> <div class=\"review-header-wrap\"><div class=\"review-edit-header\"><a href=\"//www.bilibili.com/bangumi/media/md427/\" target=\"_blank\" class=\"media-img\"><img src=\"//i0.hdslb.com/bfs/bangumi/image/090d4aa97754d1d80206e461eb633b28b9deed07.jpg@100w_133h.jpg\" alt></a> <div class=\"media-info\"><h4>某科学的超电磁炮S</h4> <p class=\"rate-tip\">请发表你对这部作品的评分</p> <div class=\"rate-wrap\"><ul class=\"rate-star clearfix\"><li><i class=\"icon-star\"></i></li><li><i class=\"icon-star\"></i></li><li><i class=\"icon-star\"></i></li><li><i class=\"icon-star\"></i></li><li><i class=\"icon-star\"></i></li></ul></div></div></div></div> <div class=\"review-body-wrap\"><textarea name=\"short-review\" placeholder></textarea> <span class=\"tip\" style=\"color:#99a2aa;\">0/100</span> <button class=\"mr-btn\">发表短评</button></div> <div class=\"mr-long-review\">想写长评，点这里 &gt;</div></div></div> <!----> <!----> <!----> <!----> <!----> <!----> <!----> <!----></div><script>window.__BILI_CONFIG__={\"show_bv\":true}</script><script>window.__INITIAL_STATE__={\"ver\":{},\"loginInfo\":{\"isLogin\":null},\"loginChecked\":false,\"userStatus\":{},\"area\":0,\"mediaInfo\":{\"activity\":{\"cover\":\"http:\\\\u002F\\\\u002Fi0.hdslb.com\\\\u002Fbfs\\\\u002Fbangumi\\\\u002F2ca10857cb220c589c3f55ee9fd52fe0903a9d5c.png\",\"head_bg_url\":\"\",\"id\":70,\"link\":\"\",\"pendants\":[{\"image\":\"http:\\\\u002F\\\\u002Fi0.hdslb.com\\\\u002Fbfs\\\\u002Fface\\\\u002Fbb991e16ca986d7dd15365c43a2467465c799d50.png\",\"name\":\"御坂\",\"pid\":63}],\"title\":\"电磁炮\"},\"actors\":\"御坂美琴：佐藤利奈\\\\n佐天泪子：伊藤加奈惠\\\\n初春饰利：丰崎爱生\\\\n白井黑子：新井里美\\\\n麦野沈利：小清水亚美\\\\n绢旗最爱：赤﨑千夏\\\\n一方通行：岡本信彦\\\\n芙兰达·赛维伦：内田真礼\\\\n布束砥信：葉山いくみ\\\\n\",\"alias\":\"科学超电磁炮,某科学的超电磁炮,とある科学の超電磁砲,超炮S\",\"areas\":[{\"id\":2,\"name\":\"日本\"}],\"copyright\":{\"is_finish\":1,\"is_started\":1},\"cover\":\"http:\\\\u002F\\\\u002Fi0.hdslb.com\\\\u002Fbfs\\\\u002Fbangumi\\\\u002Fimage\\\\u002F090d4aa97754d1d80206e461eb633b28b9deed07.jpg\",\"episode_index\":{\"id\":72043,\"index\":\"24\",\"index_show\":\"全24话\",\"is_new\":0,\"play_index_show\":\"\"},\"evaluate\":\"《科学超电磁炮（とある科学の超电磁炮）》是以镰池和马所著作的轻小说《魔法禁书目录》的人气角色御坂美琴为主角所作的外传漫画，由冬川基作画，连载于月刊Comic电击大王，至2009年12月已经累计销售180万部。2009年10月改编为电视动画，共25集（24集+番外篇1集），由J.C.STAFF制作。\",\"long_review\":{\"next\":81479824630625,\"normal\":92,\"total\":93,\"count\":92,\"list\":[{\"review_id\":85146,\"stat\":{\"reply\":262,\"likes\":1149},\"author\":{\"uname\":\"丘贝贝Kyubei\",\"mid\":10737339,\"avatar\":\"http:\\\\u002F\\\\u002Fi0.hdslb.com\\\\u002Fbfs\\\\u002Fface\\\\u002F2f136c3d89d9225ea6ad2a35e39e48b64d58d9ea.jpg\",\"vip\":{\"vipType\":1}},\"is_spoiler\":1,\"mid\":10737339,\"title\":\"御坂美琴的双面之谜——浅析魔禁&超炮中御坂形象的二重演化之路\",\"mtime\":1578811522,\"content\":\"只看超炮的观众或许不会意识到：御坂美琴是个双面角色。她的双面性不单单在于角色本身，而在于跨作品观众对其定位与期许是不一样的，集中体现在魔禁和超炮两部作品中：在魔禁中，御坂美琴是个没什么实质作用的傲娇萌妹，是上条当麻的红颜知己，或者说后宫之一。而这种定位可能令部分超炮观众反感，他们更喜欢超炮中的那个作为主角充满魄力，有正义之心又不乏萌感的可靠女汉子。这种观点分歧反应了同一人物在不同作品中的定位：是作为女性向作品中的勇士，还是男性向作品中的公主（详见只属于你的玛丽苏女孩——浅析御坂美琴角色的成功塑造\",\"url\":\"https:\\\\u002F\\\\u002Fwww.bilibili.com\\\\u002Fread\\\\u002Fcv4336411\",\"article_id\":4336411,\"score\":8,\"is_origin\":1,\"media_id\":427,\"ctime\":1578811474,\"progress\":\"看到第16话\"},{\"review_id\":164025,\"stat\":{\"reply\":53,\"likes\":306},\"author\":{\"uname\":\"戴着呱太帽的Mikoto\",\"mid\":62994529,\"avatar\":\"http:\\\\u002F\\\\u002Fi1.hdslb.com\\\\u002Fbfs\\\\u002Fface\\\\u002Ff222a8991d8e56218a9b7a5d5dc2cd86b2f5208a.jpg\",\"vip\":{}},\"is_spoiler\":1,\"mid\":62994529,\"title\":\"御坂美琴：《魔禁》《超炮》带有反差的萌属性\",\"mtime\":1614051647,\"content\":\"2021世萌已经结束，很可惜美琴并没有获得萌王。如何看待美琴的萌呢？美琴的萌最好结合《魔法禁书目录》和《某科学的超电磁炮》2部作品，美琴在本篇魔禁有很强的年下感，而超炮却有年上感（和马【超炮的美琴意外的有年上感？】）。魔禁：比上条当麻小1岁的小妹妹，会向当麻暴露一些坏脾气；超跑：四人组中年龄最大的学姐，更多地是展现可靠的一面保护大家；二次元创造的人物不可能永远展示一张脸。傲娇少女在观众眼中，御坂美琴最大的人设特征是傲娇，二次元的成功人物总有复杂的一面，单一的属性不可能一成不变，美琴的傲娇属性随着\",\"url\":\"https:\\\\u002F\\\\u002Fwww.bilibili.com\\\\u002Fread\\\\u002Fcv9866770\",\"article_id\":9866770,\"score\":10,\"media_id\":427,\"ctime\":1613558892,\"progress\":\"看到第1话\"},{\"review_id\":58209,\"stat\":{\"reply\":300,\"likes\":951},\"author\":{\"uname\":\"美竹蘭\",\"mid\":104313377,\"avatar\":\"http:\\\\u002F\\\\u002Fi2.hdslb.com\\\\u002Fbfs\\\\u002Fface\\\\u002Fc2dcc6890baabb32c9adef9c4438a618d04fbe7b.jpg\",\"vip\":{\"vipType\":1}},\"mid\":104313377,\"title\":\"别让我们的弟弟行为让信仰来买单（方厨\\\\u002F炮厨）\",\"mtime\":1556933676,\"content\":\"重新看妹妹篇的时候，弹幕看得我好气啊，所以就把原来的稿子加了些方厨的内容关于炮厨“只喜欢超炮，只想看炮姐”其实这种话在魔禁视频里少说，不然某系列粉丝（魔禁粉和超炮粉）又会撕起来，毕竟这是魔禁的视频，喜欢就说出来，不喜欢就藏在心里，最近一直在和魔禁粉交涉，希望和解，但他们表示对于某些炮厨的行为（比如大批的在魔禁视频里刷炮姐，在魔禁里面刷你指尖电光，踩一（魔禁）捧一（超炮）……这类行为）非常无语，其实我作为炮厨看着挺揪心的，毕竟大部分魔禁里面出来的炮黑都是被某些不分场合刷喜欢炮姐的炮厨给逼的（比如在\",\"url\":\"https:\\\\u002F\\\\u002Fwww.bilibili.com\\\\u002Fread\\\\u002Fcv2342500\",\"article_id\":2342500,\"score\":10,\"media_id\":427,\"ctime\":1553794848,\"progress\":\"看到第5话\"}],\"folded\":1},\"media_id\":427,\"mode\":0,\"origin_name\":\"とある科学の超電磁砲S\",\"payment\":{\"discount\":100,\"pay_type\":{\"allow_discount\":0,\"allow_pack\":0,\"allow_ticket\":0,\"allow_time_limit\":0,\"allow_vip_discount\":0,\"forbid_bb\":0},\"price\":\"0.0\",\"promotion\":\"\",\"tip\":\"大会员专享观看特权哦~\",\"view_start_time\":0,\"vip_discount\":100,\"vip_first_promotion\":\"\",\"vip_promotion\":\"开通大会员观看\"},\"publish\":{\"is_finish\":1,\"is_started\":1,\"pub_date\":\"2013-04-12\",\"pub_date_show\":\"2013年4月12日\",\"release_date_show\":\"2013年4月12日开播\",\"time_length_show\":\"已完结, 全24话\"},\"rating\":{\"count\":26928,\"score\":9.7},\"rights\":{\"allow_bp\":0,\"allow_bp_rank\":1,\"allow_review\":1,\"can_watch\":1,\"copyright\":\"bilibili\"},\"season_id\":427,\"season_status\":13,\"seasons\":[{\"is_new\":0,\"media_id\":425,\"season_id\":425,\"season_title\":\"第一季\",\"title\":\"某科学的超电磁炮\",\"type\":1},{\"is_new\":0,\"media_id\":427,\"season_id\":427,\"season_title\":\"第二季\",\"title\":\"某科学的超电磁炮S\",\"type\":1},{\"is_new\":0,\"media_id\":28224095,\"season_id\":29325,\"season_title\":\"第三季\",\"title\":\"某科学的超电磁炮T\",\"type\":1}],\"short_review\":{\"next\":80698171321897,\"total\":6885,\"list\":[{\"review_id\":30802087,\"score\":10,\"stat\":{},\"author\":{\"uname\":\"潮汐之始鸣\",\"mid\":491211366,\"avatar\":\"http:\\\\u002F\\\\u002Fi0.hdslb.com\\\\u002Fbfs\\\\u002Fface\\\\u002Fe2be67d8cf9e491db8743e7c2d0a1814763921a6.jpg\",\"vip\":{\"vipType\":2,\"vipStatus\":1}},\"media_id\":427,\"mid\":491211366,\"ctime\":1623385171,\"progress\":\"看到第17话\",\"mtime\":1623385171,\"content\":\"railgun永远滴神！\"},{\"review_id\":30798446,\"score\":10,\"stat\":{\"likes\":1},\"author\":{\"uname\":\"阿熙爱吃大西瓜\",\"mid\":85864082,\"avatar\":\"http:\\\\u002F\\\\u002Fi2.hdslb.com\\\\u002Fbfs\\\\u002Fface\\\\u002F22c042d7eba56c1db0cd2bac5658abbf3ceb456f.jpg\",\"vip\":{\"vipType\":1}},\"media_id\":427,\"mid\":85864082,\"ctime\":1623349378,\"progress\":\"看到第1话\",\"mtime\":1623349378,\"content\":\"太爱了\"},{\"review_id\":30797353,\"score\":10,\"stat\":{\"likes\":1},\"author\":{\"uname\":\"152375495\",\"mid\":343652211,\"avatar\":\"http:\\\\u002F\\\\u002Fi0.hdslb.com\\\\u002Fbfs\\\\u002Fface\\\\u002F0921c2999d777b8bd856742438625900b6c422b7.jpg\",\"vip\":{\"vipType\":1}},\"media_id\":427,\"mid\":343652211,\"ctime\":1623343159,\"progress\":\"看到第23话\",\"mtime\":1623343159,\"content\":\"虐死了\"}]},\"staff\":\"原作： 鎌池和馬、冬川基\\\\n导演： 長井龍雪\\\\n脚本： 水上清資、山田靖智、土屋理敬、砂山蔵澄、花田十輝、吉野弘幸\\\\n分镜： 岩瀧智、高柳滋仁、紺野直幸、後藤圭二、長井龍雪、大橋誉志光、福田道生\\\\n演出： 長井龍雪、カサヰケンイチ、桜美かつし、池端隆史、紺野直幸、後藤圭二、高島大輔、鈴木洋平、羽多野浩平\\\\n音乐： I\\'ve、井内舞子\\\\n人物原案： 灰村キヨタカ\\\\n人物设定： 田中雄一、冷水由紀絵\\\\n系列构成： 水上清資\\\\n美术监督： 黒田友範\\\\n色彩设计： 安藤智美\\\\n总作画监督： 田中雄一、冨岡寛、木本茂樹\\\\n作画监督： 冨岡寛、熊谷勝弘、高瀬健一、冷水由紀絵、矢向宏志、椛島洋介、木本茂樹、佐藤麻里那、酒井智史\\\\n摄影监督： 福世晋吾\\\\n道具设计： 常木志伸\\\\n原画： 野中正幸、田中宏紀、大木良一、矢向宏志、中村直人\\\\n剪辑： 西山茂\\\\n主题歌编曲： 清水哲平、八木沼悟志\\\\n主题歌作曲： 渡辺翔、八木沼悟志\\\\n主题歌作词： 渡辺翔、八木沼悟志\\\\n主题歌演出： 井口裕香、fripSide\\\\n音响监督： 明田川仁\\\\n音响： マジックカプセル\\\\n制片人： 中山信宏、三木一馬\",\"stat\":{\"danmakus\":3748783,\"favorites\":2401047,\"series_follow\":6997167,\"views\":69793947},\"styles\":[{\"id\":10026,\"name\":\"校园\"},{\"id\":10020,\"name\":\"战斗\"},{\"id\":10018,\"name\":\"奇幻\"}],\"time_length\":0,\"title\":\"某科学的超电磁炮S\",\"type\":1,\"type_name\":\"番剧\",\"param\":{\"season_id\":427,\"season_type\":1}},\"comicInfo\":[],\"shortTotal\":6885,\"recomList\":[],\"currentIndex\":null,\"userReview\":{},\"shortReviewInfo\":{\"$error\":false,\"review_id\":0,\"content\":\"\",\"is_coin\":0,\"user_rating\":{\"score\":-1},\"likes\":0,\"liked\":0,\"disliked\":0,\"ctime\":0,\"mtime\":0},\"longReviewInfo\":{},\"userScore\":-1,\"seasonFollowed\":false,\"sponsorTotal\":{\"code\":0,\"result\":{\"ep_bp\":0,\"users\":0,\"mine\":{},\"list\":[]}},\"sponsorWeek\":{\"code\":0,\"result\":{\"ep_bp\":0,\"users\":0,\"mine\":{},\"list\":[]}},\"sponsorStat\":0,\"sponsorTotalCount\":0,\"sectionList\":[],\"mainSectionList\":{},\"showBv\":true};(function(){var s;(s=document.currentScript||document.scripts[document.scripts.length-1]).parentNode.removeChild(s);}());</script><script src=\"//s1.hdslb.com/bfs/static/review/media/1.review-media.700fdc08746cd84787d863693d43b886d7caf9e3.js\" defer></script><script src=\"//s1.hdslb.com/bfs/static/review/media/review-media.700fdc08746cd84787d863693d43b886d7caf9e3.js\" defer></script><script type=\"text/javascript\">0</script><div id=\"biliMainFooter\"></div><script type=\"text/javascript\" src=\"//s1.hdslb.com/bfs/seed/jinkela/footer-v2/footer.js\" defer=\"defer\"></script><script type=\"text/javascript\">window.bid=13,window.spmReportData={},window.reportConfig={sample:1,scrollTracker:!0,msgObjects:\"spmReportData\"}</script><script src=\"//s1.hdslb.com/bfs/static/plugin/vip/BilAccountThaw.js\"></script></body></html>'"
      ]
     },
     "execution_count": 12,
     "metadata": {},
     "output_type": "execute_result"
    }
   ],
   "source": [
    "res.text"
   ]
  },
  {
   "cell_type": "code",
   "execution_count": 13,
   "id": "fdd6590e",
   "metadata": {},
   "outputs": [],
   "source": [
    "with open(\"a.html\", 'w', encoding='utf8') as f:\n",
    "    f.write(res.text)"
   ]
  },
  {
   "cell_type": "code",
   "execution_count": 15,
   "id": "19596507",
   "metadata": {},
   "outputs": [],
   "source": [
    "import re"
   ]
  },
  {
   "cell_type": "code",
   "execution_count": 27,
   "id": "01c05567",
   "metadata": {},
   "outputs": [
    {
     "data": {
      "text/plain": [
       "'御坂美琴：佐藤利奈\\\\n佐天泪子：伊藤加奈惠\\\\n初春饰利：丰崎爱生\\\\n白井黑子：新井里美\\\\n麦野沈利：小清水亚美\\\\n绢旗最爱：赤﨑千夏\\\\n一方通行：岡本信彦\\\\n芙兰达·赛维伦：内田真礼\\\\n布束砥信：葉山いくみ\\\\n'"
      ]
     },
     "execution_count": 27,
     "metadata": {},
     "output_type": "execute_result"
    }
   ],
   "source": [
    "# 方法1 \"actors\": \"...\"\n",
    "\n",
    "sample = ' \"actors\" \"asda asd as\" '\n",
    "\n",
    "pattern = r'\"actors\"[^\"]*\"(.+?)\"'\n",
    "re.findall(pattern, res.text)[0]"
   ]
  },
  {
   "cell_type": "code",
   "execution_count": null,
   "id": "025f2c11",
   "metadata": {},
   "outputs": [],
   "source": []
  }
 ],
 "metadata": {
  "kernelspec": {
   "display_name": "Python 3",
   "language": "python",
   "name": "python3"
  },
  "language_info": {
   "codemirror_mode": {
    "name": "ipython",
    "version": 3
   },
   "file_extension": ".py",
   "mimetype": "text/x-python",
   "name": "python",
   "nbconvert_exporter": "python",
   "pygments_lexer": "ipython3",
   "version": "3.8.3"
  }
 },
 "nbformat": 4,
 "nbformat_minor": 5
}
