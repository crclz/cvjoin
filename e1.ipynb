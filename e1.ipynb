{
 "cells": [
  {
   "cell_type": "markdown",
   "id": "a64cac9d",
   "metadata": {},
   "source": [
    "第一种方法是结构化的方法。首先思考结构化的方法。如果信息整理难度过大就走统计学的路。\n",
    "\n",
    "第二种方法是统计学的方法。\n",
    "\n",
    "第三种方法是手动导入。至少对于我个人看过的番剧来说，手动导入是可以实现的。另外，如果有社区的话，实现起来也非常容易。但是，这就不能体现技术上的geek感。\n",
    "\n",
    "\n"
   ]
  },
  {
   "cell_type": "markdown",
   "id": "c58bbfa1",
   "metadata": {},
   "source": [
    "注：如果采用selenium之类的，可以使用这个\n",
    "\n",
    "```js\n",
    "$('.mic-evaluate')[0].querySelector('span').innerText\n",
    "\n",
    "// or \n",
    "document.querySelector('.mic-evaluate').querySelector('span').innerText\n",
    "\n",
    "\n",
    "`御坂美琴：佐藤利奈\n",
    "佐天泪子：伊藤加奈惠\n",
    "初春饰利：丰崎爱生\n",
    "白井黑子：新井里美\n",
    "麦野沈利：小清水亚美\n",
    "绢旗最爱：赤﨑千夏\n",
    "一方通行：岡本信彦\n",
    "芙兰达·赛维伦：内田真礼\n",
    "布束砥信：葉山いくみ\n",
    "`\n",
    "```"
   ]
  },
  {
   "cell_type": "markdown",
   "id": "8a708449",
   "metadata": {},
   "source": [
    "网址的问题\n",
    "\n",
    "https://www.bilibili.com/bangumi/media/md427\n",
    "\n",
    "关键是找到md后面的数字的列表，之后就好办了。\n",
    "\n",
    "不管怎样，先验证爬虫吧。"
   ]
  },
  {
   "cell_type": "code",
   "execution_count": 50,
   "id": "9a6a69b8",
   "metadata": {},
   "outputs": [],
   "source": [
    "import requests\n",
    "from bs4 import BeautifulSoup\n",
    "import re"
   ]
  },
  {
   "cell_type": "code",
   "execution_count": 51,
   "id": "d41fb8cf",
   "metadata": {},
   "outputs": [],
   "source": [
    "H = {\"User-Agent\":\"Mozilla/5.0 (Windows NT 10.0; Win64; x64; rv:89.0) Gecko/20100101 Firefox/89.0\"}\n",
    "\n",
    "res = requests.get('https://www.bilibili.com/bangumi/media/md427', headers=H)"
   ]
  },
  {
   "cell_type": "code",
   "execution_count": 13,
   "id": "00b62095",
   "metadata": {},
   "outputs": [],
   "source": [
    "with open(\"a.html\", 'w', encoding='utf8') as f:\n",
    "    f.write(res.text)"
   ]
  },
  {
   "cell_type": "code",
   "execution_count": 27,
   "id": "d09a73e2",
   "metadata": {},
   "outputs": [
    {
     "data": {
      "text/plain": [
       "'御坂美琴：佐藤利奈\\\\n佐天泪子：伊藤加奈惠\\\\n初春饰利：丰崎爱生\\\\n白井黑子：新井里美\\\\n麦野沈利：小清水亚美\\\\n绢旗最爱：赤﨑千夏\\\\n一方通行：岡本信彦\\\\n芙兰达·赛维伦：内田真礼\\\\n布束砥信：葉山いくみ\\\\n'"
      ]
     },
     "execution_count": 27,
     "metadata": {},
     "output_type": "execute_result"
    }
   ],
   "source": [
    "# 方法1 \"actors\": \"...\"\n",
    "\n",
    "pattern = r'\"actors\"[^\"]*\"(.+?)\"'\n",
    "re.findall(pattern, res.text)[0]"
   ]
  },
  {
   "cell_type": "markdown",
   "id": "56f97a25",
   "metadata": {},
   "source": [
    "接下来就是找url的环节。\n",
    "\n"
   ]
  },
  {
   "cell_type": "code",
   "execution_count": 28,
   "id": "3fde29f5",
   "metadata": {},
   "outputs": [],
   "source": [
    "res = requests.get('https://www.bilibili.com/bangumi/play/ss3398', headers=H)"
   ]
  },
  {
   "cell_type": "code",
   "execution_count": 30,
   "id": "39aef040",
   "metadata": {},
   "outputs": [],
   "source": [
    "with open('b.html','w',encoding='utf8') as f:\n",
    "    f.write(res.text)"
   ]
  },
  {
   "cell_type": "code",
   "execution_count": 32,
   "id": "3c83b38f",
   "metadata": {},
   "outputs": [],
   "source": [
    "s = BeautifulSoup(res.text)"
   ]
  },
  {
   "cell_type": "code",
   "execution_count": 47,
   "id": "9fc360ae",
   "metadata": {},
   "outputs": [
    {
     "name": "stdout",
     "output_type": "stream",
     "text": [
      "https://www.bilibili.com/bangumi/media/md3398/\n",
      "冰菓\n"
     ]
    }
   ],
   "source": [
    "atag = s.select_one(\".media-title\")\n",
    "\n",
    "print(\"https:\"+atag.attrs['href'])\n",
    "print(atag.text)"
   ]
  },
  {
   "cell_type": "markdown",
   "id": "cd55447b",
   "metadata": {},
   "source": [
    "# 正片开始"
   ]
  },
  {
   "cell_type": "code",
   "execution_count": 58,
   "id": "9eda8a5c",
   "metadata": {},
   "outputs": [
    {
     "data": {
      "text/plain": [
       "'https://api.bilibili.com/pgc/season/index/result?season_version=-1&area=-1&is_finish=-1&copyright=-1&season_status=-1&season_month=-1&year=-1&style_id=-1&order=3&st=1&sort=0&page=10&season_type=1&pagesize=100&type=1'"
      ]
     },
     "execution_count": 58,
     "metadata": {},
     "output_type": "execute_result"
    }
   ],
   "source": [
    "# 获取全部番剧列表，按照排行榜排序\n",
    "\n",
    "def compose_url(page, page_size):\n",
    "    tmpl = \"https://api.bilibili.com/pgc/season/index/result?season_version=-1&area=-1&is_finish=-1&copyright=-1&season_status=-1&season_month=-1&year=-1&style_id=-1&order=3&st=1&sort=0&page={0}&season_type=1&pagesize={1}&type=1\"\n",
    "    return tmpl.format(page, page_size)\n",
    "\n",
    "compose_url(10,100)"
   ]
  },
  {
   "cell_type": "code",
   "execution_count": 59,
   "id": "c5ccba20",
   "metadata": {},
   "outputs": [],
   "source": [
    "huge_url = compose_url(1, 10000)"
   ]
  },
  {
   "cell_type": "code",
   "execution_count": 60,
   "id": "5d30afe7",
   "metadata": {},
   "outputs": [],
   "source": [
    "res = requests.get(huge_url, headers=H)"
   ]
  },
  {
   "cell_type": "code",
   "execution_count": 69,
   "id": "863ade68",
   "metadata": {},
   "outputs": [],
   "source": [
    "with open('data/1-all-anime-list.json', 'w', encoding='utf8') as f:\n",
    "    f.write(res.text)"
   ]
  },
  {
   "cell_type": "code",
   "execution_count": 63,
   "id": "dd754cf2",
   "metadata": {},
   "outputs": [],
   "source": [
    "obj = res.json()"
   ]
  },
  {
   "cell_type": "code",
   "execution_count": 65,
   "id": "1cb56c1d",
   "metadata": {},
   "outputs": [
    {
     "data": {
      "text/plain": [
       "0"
      ]
     },
     "execution_count": 65,
     "metadata": {},
     "output_type": "execute_result"
    }
   ],
   "source": [
    "obj['code']"
   ]
  },
  {
   "cell_type": "code",
   "execution_count": 67,
   "id": "cd103443",
   "metadata": {},
   "outputs": [
    {
     "data": {
      "text/plain": [
       "3357"
      ]
     },
     "execution_count": 67,
     "metadata": {},
     "output_type": "execute_result"
    }
   ],
   "source": [
    "obj['data']['list'].__len__()"
   ]
  },
  {
   "cell_type": "code",
   "execution_count": 70,
   "id": "ae2cc77f",
   "metadata": {},
   "outputs": [],
   "source": [
    "anime_urls = [p['link'] for p in obj['data']['list']]"
   ]
  },
  {
   "cell_type": "code",
   "execution_count": 72,
   "id": "db8c3311",
   "metadata": {},
   "outputs": [
    {
     "data": {
      "text/plain": [
       "['https://www.bilibili.com/bangumi/play/ss26801',\n",
       " 'https://www.bilibili.com/bangumi/play/ss34430',\n",
       " 'https://www.bilibili.com/bangumi/play/ss36174',\n",
       " 'https://www.bilibili.com/bangumi/play/ss36429',\n",
       " 'https://www.bilibili.com/bangumi/play/ss38221',\n",
       " 'https://www.bilibili.com/bangumi/play/ss36170',\n",
       " 'https://www.bilibili.com/bangumi/play/ss34004',\n",
       " 'https://www.bilibili.com/bangumi/play/ss24588',\n",
       " 'https://www.bilibili.com/bangumi/play/ss33802',\n",
       " 'https://www.bilibili.com/bangumi/play/ss32982']"
      ]
     },
     "execution_count": 72,
     "metadata": {},
     "output_type": "execute_result"
    }
   ],
   "source": [
    "anime_urls[:10]"
   ]
  },
  {
   "cell_type": "code",
   "execution_count": 74,
   "id": "18bc8825",
   "metadata": {},
   "outputs": [
    {
     "name": "stdout",
     "output_type": "stream",
     "text": [
      "https://www.bilibili.com/bangumi/media/md22718131/\n",
      "鬼灭之刃\n"
     ]
    }
   ],
   "source": [
    "# get title and cv actor list of 1 sample\n",
    "\n",
    "sample_url = anime_urls[0]\n",
    "res = requests.get(sample_url, headers=H)\n",
    "s = BeautifulSoup(res.text)\n",
    "\n",
    "atag = s.select_one(\".media-title\")\n",
    "\n",
    "print(\"https:\"+atag.attrs['href'])\n",
    "print(atag.text)"
   ]
  },
  {
   "cell_type": "code",
   "execution_count": 75,
   "id": "23d7ca9c",
   "metadata": {},
   "outputs": [],
   "source": [
    "import hashlib\n",
    "def sha256(s):  \n",
    "    h = hashlib.sha256()   \n",
    "    h.update(s.encode('utf8'))   \n",
    "    b = h.hexdigest().lower() \n",
    "    return b"
   ]
  },
  {
   "cell_type": "code",
   "execution_count": 105,
   "id": "3225b67f",
   "metadata": {},
   "outputs": [],
   "source": [
    "# download all webpages\n",
    "\n",
    "# download 1 webpage\n",
    "\n",
    "def compose_webpage_store(url):\n",
    "    return f'data/2-all/{sha256(url)}.html'\n",
    "\n",
    "import os\n",
    "\n",
    "def down_url(url):\n",
    "    file = compose_webpage_store(url)\n",
    "    \n",
    "    if os.path.exists(file):\n",
    "        return\n",
    "    \n",
    "    res = requests.get(url, headers=H)\n",
    "    if not res.ok:\n",
    "        print(\"ERROR\", url)\n",
    "        return\n",
    "\n",
    "    with open(file, 'w', encoding='utf8') as f:\n",
    "        f.write(res.text)"
   ]
  },
  {
   "cell_type": "code",
   "execution_count": 106,
   "id": "cf5711bb",
   "metadata": {},
   "outputs": [
    {
     "name": "stdout",
     "output_type": "stream",
     "text": [
      "ERROR https://www.bilibili.com/bangumi/play/ss5970\n"
     ]
    }
   ],
   "source": [
    "for url in anime_urls[:500]: # 前500就够了\n",
    "    \n",
    "    down_url(url)"
   ]
  },
  {
   "cell_type": "code",
   "execution_count": null,
   "id": "fcb99daf",
   "metadata": {},
   "outputs": [],
   "source": []
  }
 ],
 "metadata": {
  "kernelspec": {
   "display_name": "Python 3",
   "language": "python",
   "name": "python3"
  },
  "language_info": {
   "codemirror_mode": {
    "name": "ipython",
    "version": 3
   },
   "file_extension": ".py",
   "mimetype": "text/x-python",
   "name": "python",
   "nbconvert_exporter": "python",
   "pygments_lexer": "ipython3",
   "version": "3.8.3"
  }
 },
 "nbformat": 4,
 "nbformat_minor": 5
}
