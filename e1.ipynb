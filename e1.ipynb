{
 "cells": [
  {
   "cell_type": "markdown",
   "id": "f25d86e1",
   "metadata": {},
   "source": [
    "第一种方法是结构化的方法。首先思考结构化的方法。如果信息整理难度过大就走统计学的路。\n",
    "\n",
    "第二种方法是统计学的方法。\n",
    "\n",
    "第三种方法是手动导入。至少对于我个人看过的番剧来说，手动导入是可以实现的。另外，如果有社区的话，实现起来也非常容易。但是，这就不能体现技术上的geek感。\n",
    "\n",
    "\n"
   ]
  },
  {
   "cell_type": "markdown",
   "id": "87f40948",
   "metadata": {},
   "source": [
    "注：如果采用selenium之类的，可以使用这个\n",
    "\n",
    "```js\n",
    "$('.mic-evaluate')[0].querySelector('span').innerText\n",
    "\n",
    "// or \n",
    "document.querySelector('.mic-evaluate').querySelector('span').innerText\n",
    "\n",
    "\n",
    "`御坂美琴：佐藤利奈\n",
    "佐天泪子：伊藤加奈惠\n",
    "初春饰利：丰崎爱生\n",
    "白井黑子：新井里美\n",
    "麦野沈利：小清水亚美\n",
    "绢旗最爱：赤﨑千夏\n",
    "一方通行：岡本信彦\n",
    "芙兰达·赛维伦：内田真礼\n",
    "布束砥信：葉山いくみ\n",
    "`\n",
    "```"
   ]
  },
  {
   "cell_type": "markdown",
   "id": "9cc5582a",
   "metadata": {},
   "source": [
    "网址的问题\n",
    "\n",
    "https://www.bilibili.com/bangumi/media/md427\n",
    "\n",
    "关键是找到md后面的数字的列表，之后就好办了。\n",
    "\n",
    "不管怎样，先验证爬虫吧。"
   ]
  },
  {
   "cell_type": "code",
   "execution_count": 3,
   "id": "89504944",
   "metadata": {},
   "outputs": [],
   "source": [
    "import requests\n",
    "from bs4 import BeautifulSoup\n",
    "import re\n",
    "import json\n",
    "H = {\"User-Agent\":\"Mozilla/5.0 (Windows NT 10.0; Win64; x64; rv:89.0) Gecko/20100101 Firefox/89.0\"}"
   ]
  },
  {
   "cell_type": "markdown",
   "id": "13ac0489",
   "metadata": {},
   "source": [
    "# 正片开始"
   ]
  },
  {
   "cell_type": "code",
   "execution_count": 4,
   "id": "74fc94e3",
   "metadata": {},
   "outputs": [
    {
     "data": {
      "text/plain": [
       "'https://api.bilibili.com/pgc/season/index/result?season_version=-1&area=-1&is_finish=-1&copyright=-1&season_status=-1&season_month=-1&year=-1&style_id=-1&order=3&st=1&sort=0&page=10&season_type=1&pagesize=100&type=1'"
      ]
     },
     "execution_count": 4,
     "metadata": {},
     "output_type": "execute_result"
    }
   ],
   "source": [
    "# 获取全部番剧列表，按照排行榜排序\n",
    "\n",
    "def compose_url(page, page_size):\n",
    "    tmpl = \"https://api.bilibili.com/pgc/season/index/result?season_version=-1&area=-1&is_finish=-1&copyright=-1&season_status=-1&season_month=-1&year=-1&style_id=-1&order=3&st=1&sort=0&page={0}&season_type=1&pagesize={1}&type=1\"\n",
    "    return tmpl.format(page, page_size)\n",
    "\n",
    "compose_url(10,100)"
   ]
  },
  {
   "cell_type": "code",
   "execution_count": 5,
   "id": "b2a4049c",
   "metadata": {},
   "outputs": [],
   "source": [
    "# 本单元格将更新 data/1-all-anime-list.json\n",
    "\n",
    "run = False\n",
    "\n",
    "if run:\n",
    "    huge_url = compose_url(1, 10000)\n",
    "\n",
    "    res = requests.get(huge_url, headers=H)\n",
    "\n",
    "    with open('data/1-all-anime-list.json', 'w', encoding='utf8') as f:\n",
    "        f.write(res.text)"
   ]
  },
  {
   "cell_type": "code",
   "execution_count": 6,
   "id": "b5bdebe7",
   "metadata": {},
   "outputs": [
    {
     "name": "stdout",
     "output_type": "stream",
     "text": [
      "番剧数量: 3357\n"
     ]
    }
   ],
   "source": [
    "obj = json.load(open('data/1-all-anime-list.json', 'r', encoding='utf8'))\n",
    "assert obj['code'] == 0\n",
    "print(\"番剧数量:\", obj['data']['list'].__len__())"
   ]
  },
  {
   "cell_type": "code",
   "execution_count": 19,
   "id": "49a3f146",
   "metadata": {},
   "outputs": [
    {
     "data": {
      "text/plain": [
       "'ss26801'"
      ]
     },
     "execution_count": 19,
     "metadata": {},
     "output_type": "execute_result"
    }
   ],
   "source": [
    "# s = 'https://www.bilibili.com/bangumi/play/ss26801'\n",
    "# r = r'ss\\d+'\n",
    "# re.findall(r, s)[0]\n",
    "\n",
    "def parse_id_ss(s):\n",
    "    return re.findall(r'ss\\d+', s)[0]\n",
    "\n",
    "parse_id_ss('https://www.bilibili.com/bangumi/play/ss26801')"
   ]
  },
  {
   "cell_type": "code",
   "execution_count": 30,
   "id": "f67e952b",
   "metadata": {},
   "outputs": [
    {
     "data": {
      "text/plain": [
       "('sample', 'https://www.bilibili.com/bangumi/media/md123/')"
      ]
     },
     "execution_count": 30,
     "metadata": {},
     "output_type": "execute_result"
    }
   ],
   "source": [
    "def compose_media_url(mediaId):\n",
    "    return f'https://www.bilibili.com/bangumi/media/md{mediaId}/'\n",
    "\n",
    "\"sample\", compose_media_url(123)"
   ]
  },
  {
   "cell_type": "code",
   "execution_count": 32,
   "id": "07dd6384",
   "metadata": {
    "scrolled": true
   },
   "outputs": [
    {
     "data": {
      "text/plain": [
       "[{'id': 'ss26801',\n",
       "  'title': '鬼灭之刃',\n",
       "  'playUrl': 'https://www.bilibili.com/bangumi/play/ss26801',\n",
       "  'mediaId': 22718131,\n",
       "  'mediaUrl': 'https://www.bilibili.com/bangumi/media/md22718131/'},\n",
       " {'id': 'ss34430',\n",
       "  'title': '咒术回战',\n",
       "  'playUrl': 'https://www.bilibili.com/bangumi/play/ss34430',\n",
       "  'mediaId': 28229899,\n",
       "  'mediaUrl': 'https://www.bilibili.com/bangumi/media/md28229899/'},\n",
       " {'id': 'ss36174',\n",
       "  'title': '工作细胞 第二季',\n",
       "  'playUrl': 'https://www.bilibili.com/bangumi/play/ss36174',\n",
       "  'mediaId': 28231816,\n",
       "  'mediaUrl': 'https://www.bilibili.com/bangumi/media/md28231816/'}]"
      ]
     },
     "execution_count": 32,
     "metadata": {},
     "output_type": "execute_result"
    }
   ],
   "source": [
    "anime_list = []\n",
    "\n",
    "for x in obj['data']['list']:\n",
    "    anime = {\n",
    "        'id': parse_id_ss(x['link']),\n",
    "        'title': x['title'],\n",
    "        'playUrl': x['link'],\n",
    "        'mediaId': x['media_id'],\n",
    "        'mediaUrl': compose_media_url(x['media_id'])\n",
    "    }\n",
    "    anime_list.append(anime)\n",
    "\n",
    "anime_list[:3]"
   ]
  },
  {
   "cell_type": "code",
   "execution_count": 45,
   "id": "0c52a97c",
   "metadata": {},
   "outputs": [],
   "source": [
    "# webpage cache\n",
    "\n",
    "import hashlib\n",
    "import os\n",
    "\n",
    "def sha256(s):  \n",
    "    h = hashlib.sha256()   \n",
    "    h.update(s.encode('utf8'))   \n",
    "    b = h.hexdigest().lower() \n",
    "    return b\n",
    "\n",
    "def compose_webpage_store(url):\n",
    "    return f'data/2-all/{sha256(url)}.html'\n",
    "\n",
    "def read_all_text(filename):\n",
    "    with open(filename, 'r', encoding='utf8') as f:\n",
    "        return f.read()\n",
    "\n",
    "def get_url(url):\n",
    "    file = compose_webpage_store(url)\n",
    "    \n",
    "    if os.path.exists(file):\n",
    "        return read_all_text(file)\n",
    "    \n",
    "    res = requests.get(url, headers=H)\n",
    "    if not res.ok:\n",
    "        print(\"ERROR\", url)\n",
    "        raise\n",
    "\n",
    "    with open(file, 'w', encoding='utf8') as f:\n",
    "        f.write(res.text)\n",
    "        \n",
    "    return read_all_text(file)"
   ]
  },
  {
   "cell_type": "code",
   "execution_count": 46,
   "id": "69a3970a",
   "metadata": {},
   "outputs": [],
   "source": [
    "MAX_ANIME = 500"
   ]
  },
  {
   "cell_type": "code",
   "execution_count": 48,
   "id": "cd997604",
   "metadata": {},
   "outputs": [],
   "source": [
    "def compose_raw_cvlist_file(media_id):\n",
    "    return f'data/3-cv-raw/{media_id}'\n",
    "\n",
    "def get_raw_cvlist(media_id):\n",
    "    file = compose_raw_cvlist_file(media_id)\n",
    "    \n",
    "    if os.path.exists(file):\n",
    "        return read_all_text(file)\n",
    "        \n",
    "    media_url = compose_media_url(media_id)\n",
    "    text = get_url(media_url)\n",
    "    \n",
    "    pattern = r'\"actors\"[^\"]*\"(.+?)\"'\n",
    "    cv_list_raw = re.findall(pattern, text)[0]\n",
    "    \n",
    "    with open(file, 'w', encoding='utf8') as f:\n",
    "        f.write(cv_list_raw)\n",
    "    \n",
    "    return read_all_text(file)"
   ]
  },
  {
   "cell_type": "code",
   "execution_count": 66,
   "id": "a7d08c02",
   "metadata": {},
   "outputs": [
    {
     "data": {
      "text/plain": [
       "'https://www.bilibili.com/bangumi/media/md28234382/'"
      ]
     },
     "execution_count": 66,
     "metadata": {},
     "output_type": "execute_result"
    }
   ],
   "source": [
    "compose_media_url(28234382)"
   ]
  },
  {
   "cell_type": "code",
   "execution_count": 86,
   "id": "a5c1658c",
   "metadata": {},
   "outputs": [
    {
     "name": "stdout",
     "output_type": "stream",
     "text": [
      "WARN 石川由依\n",
      "WARN 茅原实里\n",
      "WARN 远藤绫\n",
      "WARN 寿美菜子\n",
      "WARN 子安武人\n",
      "WARN 户松遥\n",
      "WARN 内山昂辉\n",
      "WARN 悠木碧\n",
      "WARN Mario..\n",
      "WARN \n",
      "WARN \n",
      "WARN 筑..\n",
      "WARN \n",
      "WARN \n",
      "WARN \n",
      "WARN \n",
      "WARN 松冈祯丞\n",
      "WARN 茅野爱衣\n",
      "WARN 日笠阳子\n",
      "WARN 田村由加莉\n",
      "WARN 能登麻美子\n",
      "WARN 井口裕香\n",
      "WARN 泽城美雪\n",
      "WARN 大川透\n",
      "WARN 兴津和幸\n",
      "WARN Lynn\n",
      "WARN 诹访部顺一\n",
      "WARN 堀江由衣\n",
      "WARN 森奈奈子\n",
      "WARN 竹内良太\n",
      "WARN 大地叶\n",
      "WARN 石上静香\n",
      "WARN 滨野大辉\n",
      "WARN 手冢弘道\n",
      "WARN 钉宫理惠\n",
      "WARN \n",
      "WARN \n",
      "WARN \n",
      "WARN \n",
      "WARN 柊..\n",
      "WARN 醍醐虎汰朗\n",
      "WARN 森七菜\n",
      "WARN 小栗旬\n",
      "WARN 本田翼\n",
      "WARN 倍赏千惠子\n",
      "WARN 吉柳咲良\n",
      "WARN 平泉成\n",
      "WARN 梶裕贵\n",
      "WARN 木村良平\n",
      "WARN 柴田秀胜\n",
      "WARN 野泽雅子\n",
      "WARN 花泽香菜\n",
      "WARN 佐仓绫音\n",
      "WARN \n",
      "WARN \n",
      "WARN ..\n",
      "WARN \n",
      "WARN \n",
      "WARN \n",
      "WARN \n",
      "> ERROR Extra data: line 1 column 4 (char 3) raw: \", 132112\n",
      "WARN \n",
      "WARN 神木隆之介、上白石萌音、长泽雅美、市原悦子、成田凌、悠木碧、岛崎信长、石川界人、谷花音、寺杣昌纪、大原沙耶香、井上和彦、茶风林、加藤有花、花泽香菜、寺崎裕香\n",
      "WARN \n",
      "WARN \n",
      "WARN ヘルヴィ・オーバ..\n",
      "WARN 柊..\n",
      "WARN \n",
      "WARN 入野自由 / 早见沙织 / 松冈茉优 / 悠木碧 / 小野贤章 / 金子有希 / 石川由依 / 潘惠美\n",
      "WARN \n",
      "WARN 艾涅丝妲·..\n",
      "WARN \n",
      "WARN \n",
      "WARN 高杉真宙\n",
      "WARN Lynn\n",
      "WARN 藤井雪代\n",
      "WARN 内田雄马\n",
      "WARN 福岛润\n",
      "WARN 田中敦子\n",
      "WARN 三木真一郎\n",
      "WARN \n",
      "WARN \n",
      "WARN \n",
      "WARN \n",
      "WARN \n",
      "WARN \n",
      "> ERROR Extra data: line 1 column 4 (char 3) raw: \", 28234069\n",
      "WARN 源义..\n",
      "WARN \n",
      "WARN 水田山葵\n",
      "WARN 大原惠美\n",
      "WARN 嘉数由美\n",
      "WARN 关智一\n",
      "WARN 木村昴\n",
      "WARN 远藤绫\n",
      "WARN 钉宫理惠\n",
      "WARN 渡边直美\n",
      "WARN 木村拓哉\n",
      "WARN \n",
      "WARN \n",
      "WARN 圣光君：广播：山口理恵\n",
      "WARN \n",
      "WARN 【Special Live】\n",
      "WARN KANA-BOON\n",
      "WARN ゲーム実況者わくわくバンド\n",
      "WARN DISH//\n",
      "WARN ジファブリック\n",
      "WARN FLOW\n",
      "WARN シュノーケル\n",
      "WARN Little Glee Monster\n",
      "WARN \n",
      "WARN 【原创章节朗读剧 / 名台词现场配音】\n",
      "WARN \n",
      "WARN 【2.5次元音乐剧《火影忍者 晓之音》】\n",
      "WARN 松冈广大（饰漩涡鸣人）\n",
      "WARN 佐藤流司（饰宇智波佐助）\n",
      "WARN 良知真次（饰宇智波鼬）\n",
      "WARN 伊藤优衣（饰春野樱）\n",
      "WARN 定本枫马（饰佐井）\n",
      "WARN  \n",
      "WARN 【游戏实况】\n",
      "WARN \n",
      "WARN 【主持人】\n",
      "WARN 井上裕介 / 美山加恋\n",
      "WARN 服部静华\n",
      "WARN 胜生真沙子\n",
      "WARN 阿知波皋月\n",
      "WARN 吉田美保\n",
      "WARN イル..\n",
      "WARN 艾涅丝妲·..\n",
      "WARN \n",
      "WARN \n",
      "WARN 索尼娅·..\n",
      "WARN 石见舞菜香\n",
      "WARN 入野自由\n",
      "WARN 茅野爱衣\n",
      "WARN 梶裕贵\n",
      "WARN 泽城美雪\n",
      "WARN 细谷佳正\n",
      "WARN 佐藤利奈\n",
      "WARN 日笠阳子\n",
      "WARN 久野美咲\n",
      "WARN 杉田智和\n",
      "WARN 平田广明\n",
      "WARN 黑之睡莲：若宫 惠：戸松遥\n",
      "WARN \n",
      "WARN \n",
      "WARN 夏洛特：鹿目询子：後藤邑子\n",
      "WARN \n",
      "WARN \n",
      "> ERROR Extra data: line 1 column 4 (char 3) raw: \", 28234068\n",
      "WARN \n",
      "WARN \n",
      "WARN \n",
      "WARN \n",
      "WARN 蓝宝石..\n",
      "WARN 康斯坦策·布朗施旺·阿尔布雷..\n",
      "WARN 松冈祯丞、户松遥、伊藤加奈惠、竹达彩奈、日高里菜、高垣彩阳、泽城美雪、平田广明、安元洋贵、山寺宏一\n",
      "WARN \n",
      "WARN \n",
      "WARN \n",
      "WARN \n",
      "> ERROR Extra data: line 1 column 4 (char 3) raw: \", 28234081\n",
      "WARN \n",
      "WARN \n",
      "WARN 水田山葵\n",
      "WARN 大原惠美\n",
      "WARN 嘉数由美\n",
      "WARN 木村昴\n",
      "WARN 关智一\n",
      "WARN 大谷育江\n",
      "WARN 皆川纯子\n",
      "WARN 铃木晶子\n",
      "WARN 渡边明乃\n",
      "WARN 广濑爱丽丝\n",
      "WARN 中冈创一\n",
      "WARN 吉田钢太郎\n",
      "WARN 柳乐优弥\n",
      "WARN 高桥茂雄\n",
      "WARN 高木涉\n",
      "WARN 松本保典\n",
      "WARN 荻野志保子\n",
      "WARN 庆长佑香\n",
      "WARN 矢口麻美\n",
      "WARN 寺岛拓笃\n",
      "WARN 三石琴乃\n",
      "WARN 武田幸史\n",
      "WARN 生天目仁美\n",
      "WARN 金光宣明\n",
      "WARN 村濑迪与\n",
      "WARN 鸟海胜美\n",
      "WARN 小原好美\n",
      "WARN 酒井蓝\n",
      "WARN \n",
      "> ERROR Extra data: line 1 column 4 (char 3) raw: \", 28234088\n",
      "WARN \n",
      "WARN 西奥·居喜亚..\n",
      "WARN 田..\n",
      "WARN トゥーサン・ネ..\n",
      "WARN 迈..\n",
      "> ERROR Extra data: line 1 column 4 (char 3) raw: \", 28234091\n",
      "> ERROR Extra data: line 1 column 4 (char 3) raw: \", 28234382\n",
      "WARN \n",
      "> ERROR Extra data: line 1 column 4 (char 3) raw: \", 28234083\n",
      "WARN 广濑铃\n",
      "WARN 菅田将晖\n",
      "WARN 宫野真守\n",
      "WARN 松隆子\n",
      "WARN 花泽香菜\n",
      "WARN 浅沼晋太郎\n",
      "WARN 丰永利行\n",
      "WARN 梶裕贵\n",
      "WARN 三木真一郎\n",
      "WARN 樱井孝宏\n",
      "WARN 根谷美智子\n",
      "WARN 飞田展男\n",
      "WARN 宫本充\n",
      "WARN 立木文彦\n",
      "WARN 斋藤千和\n",
      "WARN 岛村侑\n",
      "WARN 新垣樽助\n",
      "WARN 种崎敦美\n",
      "WARN 井之上润\n",
      "WARN 小原好美\n",
      "WARN 广田悠美\n",
      "WARN 内田修一\n",
      "> ERROR Extra data: line 1 column 4 (char 3) raw: \", 28234086\n",
      "WARN 凡伦蒂娜·葛..\n",
      "> ERROR Extra data: line 1 column 4 (char 3) raw: \", 28234099\n",
      "WARN 阿尔玛=卡尔..\n",
      "> ERROR Extra data: line 1 column 4 (char 3) raw: \", 28234096\n",
      "WARN 麦扎..\n"
     ]
    }
   ],
   "source": [
    "# get all cv list\n",
    "def get_list(raw):\n",
    "    r = []\n",
    "    char_cv_list = raw.split(\"\\n\")\n",
    "    for line in char_cv_list:\n",
    "        try:\n",
    "            parts = line.replace(\":\",\"：\").split(\"：\")\n",
    "            assert len(parts) == 2, line\n",
    "            r.append(parts)\n",
    "        except Exception as e:\n",
    "            print(\"WARN\", e)\n",
    "    \n",
    "    return r\n",
    "\n",
    "\n",
    "result_animes = []\n",
    "\n",
    "for anime in anime_list[:MAX_ANIME]:\n",
    "    try:\n",
    "        raw = None\n",
    "        raw = get_raw_cvlist(anime['mediaId'])\n",
    "        raw = json.loads(f' \"{raw}\" ')\n",
    "        \n",
    "        cv_list = get_list(raw)\n",
    "        \n",
    "        # append to result_animes\n",
    "        x = {\n",
    "            'id': anime['id'],\n",
    "            'title': anime['title'],\n",
    "            'viewUrl': anime['playUrl'],\n",
    "            'cv': cv_list\n",
    "        }\n",
    "        result_animes.append(x)\n",
    "        \n",
    "    except Exception as e:\n",
    "        print(\"> ERROR\", e, \"raw:\", raw, anime['mediaId'])"
   ]
  },
  {
   "cell_type": "code",
   "execution_count": 89,
   "id": "725fcc55",
   "metadata": {},
   "outputs": [
    {
     "name": "stdout",
     "output_type": "stream",
     "text": [
      "WARN ニャンコビック \n"
     ]
    }
   ],
   "source": [
    "# normalize + 去空\n",
    "# normalize，繁体转简体\n",
    "# TODO：更好的normalize\n",
    "\n",
    "import char_convert\n",
    "\n",
    "for x in result_animes:\n",
    "    new_cv_list = []\n",
    "    \n",
    "    for items in x['cv']:\n",
    "        character = items[0]\n",
    "        cvname = items[1]\n",
    "        \n",
    "        character = character.strip()\n",
    "        \n",
    "        cvname = cvname.strip()\n",
    "        if cvname.__len__() == 0:\n",
    "            print(\"WARN\", character, cvname)\n",
    "            continue\n",
    "        \n",
    "        cvname = char_convert.normalize(cvname)\n",
    "        new_cv_list.append([character, cvname])\n",
    "    \n",
    "    x['cv'] = new_cv_list"
   ]
  },
  {
   "cell_type": "code",
   "execution_count": 90,
   "id": "7f9f9cf1",
   "metadata": {},
   "outputs": [],
   "source": [
    "import json\n",
    "\n",
    "with open('data/3-animes.json', 'w', encoding='utf8') as f:\n",
    "    json.dump(result_animes, f, ensure_ascii=False, indent=4)"
   ]
  },
  {
   "cell_type": "code",
   "execution_count": null,
   "id": "f2b73f94",
   "metadata": {},
   "outputs": [],
   "source": []
  }
 ],
 "metadata": {
  "kernelspec": {
   "display_name": "Python 3",
   "language": "python",
   "name": "python3"
  },
  "language_info": {
   "codemirror_mode": {
    "name": "ipython",
    "version": 3
   },
   "file_extension": ".py",
   "mimetype": "text/x-python",
   "name": "python",
   "nbconvert_exporter": "python",
   "pygments_lexer": "ipython3",
   "version": "3.8.3"
  }
 },
 "nbformat": 4,
 "nbformat_minor": 5
}
