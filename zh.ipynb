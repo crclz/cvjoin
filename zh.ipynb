{
 "cells": [
  {
   "cell_type": "code",
   "execution_count": 2,
   "id": "28645051",
   "metadata": {},
   "outputs": [],
   "source": [
    "import json\n",
    "\n",
    "\"\"\"\n",
    "https://raw.githubusercontent.com/gumblex/zhconv/master/zhconv/zhcdict.json\n",
    "\"\"\"\n",
    "\n",
    "None"
   ]
  },
  {
   "cell_type": "code",
   "execution_count": 30,
   "id": "1e597961",
   "metadata": {},
   "outputs": [],
   "source": [
    "data = json.load(open('zhcdict.json', 'r', encoding='utf8'))"
   ]
  },
  {
   "cell_type": "code",
   "execution_count": 31,
   "id": "e65c412a",
   "metadata": {},
   "outputs": [],
   "source": [
    "single = dict()\n",
    "\n",
    "\n",
    "for trad, simp in data['zh2Hans'].items():\n",
    "    if len(trad) == 1:\n",
    "        if len(simp) == 1:\n",
    "            single[trad] = simp\n",
    "        else:\n",
    "            print(\"WARN\", trad, simp)"
   ]
  },
  {
   "cell_type": "code",
   "execution_count": 32,
   "id": "290821d2",
   "metadata": {},
   "outputs": [
    {
     "data": {
      "text/plain": [
       "4669"
      ]
     },
     "execution_count": 32,
     "metadata": {},
     "output_type": "execute_result"
    }
   ],
   "source": [
    "len(single)"
   ]
  },
  {
   "cell_type": "code",
   "execution_count": 40,
   "id": "8daff141",
   "metadata": {},
   "outputs": [],
   "source": [
    "def normalize(s, empty_when_err=True):\n",
    "    new_s = \"\"\n",
    "    for c in list(s):\n",
    "        if c in single:\n",
    "            new_s += single[c]\n",
    "        else:\n",
    "            new_s += c\n",
    "            \n",
    "    new_s = new_s.strip()\n",
    "    if len(new_s) == 0 and empty_when_err:\n",
    "        raise Exception(\"Empty cv name\")\n",
    "    return new_s"
   ]
  },
  {
   "cell_type": "code",
   "execution_count": 41,
   "id": "f4b04956",
   "metadata": {},
   "outputs": [],
   "source": [
    "data = json.load(open('data/3-animes.json', 'r', encoding='utf8'))"
   ]
  },
  {
   "cell_type": "code",
   "execution_count": 42,
   "id": "b5a04aa7",
   "metadata": {},
   "outputs": [
    {
     "name": "stdout",
     "output_type": "stream",
     "text": [
      "before reduce: 1321\n",
      "after reduce: 1160\n",
      "{'关智一 ', '礒部花凜', '久川綾', '吉冈里帆 ', '大塚芳忠', '井上剛', '小澤亜李', '小林優', '梶原岳人 ', '小西克幸 ', '松風雅也', '五十嵐裕美', '豊後敦子', '楠大典\\xa0', '姜广涛 ', '長縄まりあ', '下崎紘史', 'ゲーム実況者わくわくバンド', '中川慶一', '置鮎龙太郎', ' 堀江由衣', '濱健人', '上田麗奈', ' 平野绫', '杉山紀彰、野田順子', '内海賢二', '池田勝', ' 平田真菜', '花澤香菜', '篠原恵美', '内山昂輝', '鈴木達央', '島崎信長', '南條愛乃', '和氣あず未', '矢作紗友里', '外崎大輔', ' 柿原彻也', '樫井笙人', '水野骏太郎 ', '濱野大輝', '陈张太康 ', '吉田聖子', '檜山修之', '小林裕介 ', '東地宏樹', '山口勝平', '三木眞一郎', '興津和幸', '梶裕貴', ' 久保由利香', '豊口めぐみ(#01-15) \\\\u002F 伊藤静(#31) ', '富樫美铃', '鈴村健一', '上条沙惠子 ', ' 楠田亚衣奈', '長妻樹里', '三橋加奈子', '早志勇紀', '雨宮天', '大地葉', '柿原徹也', ' 三森铃子', ' 阿澄佳奈', '石塚運昇', '平野綾', '嘉数由美 ', '杉山紀彰', '名塚佳織', '喜多村英梨、寺島拓篤', '楠大典 ', ' 内山昂輝', '水島大宙', '三上枝織', '鬼头明里(10岁) \\\\u002F 田丸笃志(26岁) ', '白石涼子', '長嶝高士', '植田圭輔', '東城日沙子', '高田憂希', '松岡禎丞', '岡本信彦', '門脇舞以', '諸星すみれ、藤村歩', '種﨑敦美', '山下大輝', '鈴木達央、村瀬歩', '高垣彩陽', '津田美波、梶裕貴', '楠木燈', '逢坂良太 ', '宮野真守', '赵毅 ', '洲崎綾', '铃村健一 ', '日高里菜 ', '石原夏織', ' 戸松遥', '雛乃木真彩（Vtuber）', '宫野真守 ', '宮田幸季', '小野大輔', '川古昇平', '田中涼子', '水樹奈々', '小山剛志', ' 徳井青空', '冬馬由美', ' 前田爱', '五十嵐浩子', '伊藤実華、浜田賢二', '夏吉優子', '小野大輔、大原桃子', '諏訪部順一', '兴津和幸\\xa0', '遠藤綾、種田梨沙', '河本啓佑', '葉山いくみ', '堀中優希', '後藤邑子', '小倉唯', '後藤ヒロキ', '寺島拓篤', '本渡楓', '高橋広樹', '並木のり子', '平川大輔', '安元洋貴', '鳥海浩輔', '入江玲於奈', '岡本麻見', '兴津和幸 ', ' 内田彩', '釘宮理恵', '佐々木誠二', '早見沙織', '大塚明夫', '内田雄馬', '篠原侑', '松山鷹志', '下屋則子', ' 浪川大輔', '岩田龍門', ' 谷山纪章', '名塚佳织', '花江夏樹', '富樫美鈴', '山口愛', ' 梶裕贵', '小野賢章', '坂本真綾', '川澄綾子', '鷹森淑乃', '藤原啓治', ' 茅原実里', '大塚刚央', '細谷佳正', '柚木涼香', '田丸篤志', '堀内賢雄', ' 饭田里穗', '堀野紗也加', '福圓美里', '津田健次郎 ', '大西沙織', '佐久間紅美', '広橋涼', '樋口結美', '斉藤壮馬', ' 遠藤綾', '福山潤', '橋詰知久', '麻倉もも', '泽城美雪 ', '鈴木絵理', '川島悠美', '刘如蘋、刘凯宁、林筱玲', '永塚拓馬', '緑川光', '梶原岳人  ', '櫻井浩美', '米澤円', '石見舞菜香', '間島淳司', '東條加那子、梶裕貴', '野島健児', ' 子安武人', '野島裕史', '浪川大辅 ', '大地葉、松岡禎丞', '進藤尚美、平川大輔', '川原慶久', '野中藍', 'Lynn ', ' 新田惠海', '豊崎愛生', '清川元夢', '竹達彩奈', '李璐 ', '園崎未恵', '小林大紀', '椎橋和義', '茅野愛衣', '下野紘', '白石涼子、梶裕貴', '日笠陽子', '山本匠馬', '増田俊樹', '沼倉愛美', '浪川大輔', '川原礫', '福山潤、悠木碧', '緒方恵美', '富田美憂', '諸星すみれ', '小見川千明', '高橋美佳子', '高橋李依', '西凛太朗 ', '稲田徹', '種田梨沙', '宮村優子', '大橋彩香', '中島愛', '三澤紗千香', '田澤茉純', '野水伊織', '谷山紀章', '松平健 ', '竹内順子', '高橋未奈美', '上別府仁資', '佐倉綾音', '橋本ちなみ', '芹澤優', '篠原惠美', '小野友樹', ' 南条爱乃', '伊藤美紀', ' 福山润', '遊佐浩二', '東山奈央', '水橋かおり', '櫻井孝宏', '島﨑信長', '安原麗子'}\n"
     ]
    }
   ],
   "source": [
    "cv_set = set()\n",
    "\n",
    "for anime in data:\n",
    "    for cv in anime['cv']:\n",
    "        cvname = cv[1]\n",
    "        cv_set.add(cvname)\n",
    "\n",
    "print(\"before reduce:\", len(cv_set))\n",
    "\n",
    "cv_reduce = set([normalize(p, empty_when_err=False) for p in cv_set])\n",
    "\n",
    "print(\"after reduce:\", len(cv_reduce))\n",
    "\n",
    "print(cv_set - cv_reduce)"
   ]
  },
  {
   "cell_type": "code",
   "execution_count": null,
   "id": "7f56d7ac",
   "metadata": {},
   "outputs": [],
   "source": [
    "# reduce"
   ]
  }
 ],
 "metadata": {
  "kernelspec": {
   "display_name": "Python 3",
   "language": "python",
   "name": "python3"
  },
  "language_info": {
   "codemirror_mode": {
    "name": "ipython",
    "version": 3
   },
   "file_extension": ".py",
   "mimetype": "text/x-python",
   "name": "python",
   "nbconvert_exporter": "python",
   "pygments_lexer": "ipython3",
   "version": "3.8.3"
  }
 },
 "nbformat": 4,
 "nbformat_minor": 5
}
